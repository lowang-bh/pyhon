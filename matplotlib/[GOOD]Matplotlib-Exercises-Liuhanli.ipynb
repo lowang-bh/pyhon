{
 "cells": [
  {
   "cell_type": "markdown",
   "metadata": {},
   "source": [
    "# matplotlib可视化练习\n",
    "- 同学姓名:<u></u>  \n",
    "- 批改人：Smirk\n",
    "- 情况总结:\n",
    "----\n",
    "1. 题做的不错，做了图，也有自己的理解，这就是这个练习的初衷了\n",
    "1. 如果有精力思考下出题的思路，为什么要分析这些，希望发现什么问题，还能做哪些分析。\n",
    "1. 棒，加油！"
   ]
  },
  {
   "cell_type": "code",
   "execution_count": 2,
   "metadata": {},
   "outputs": [],
   "source": [
    "%matplotlib inline\n",
    "import matplotlib as mpl\n",
    "from matplotlib import pyplot as plt\n",
    "import seaborn as sns"
   ]
  },
  {
   "cell_type": "code",
   "execution_count": 3,
   "metadata": {},
   "outputs": [],
   "source": [
    "#全局参数设置\n",
    "mpl.rc('figure', figsize = (10, 8))    # rc: resource configuration\n",
    "mpl.rc('font', size = 14)              # 设置字体 14\n",
    "mpl.rc('axes.spines', top = False, right = False)    # 不显示顶部和右侧的坐标线\n",
    "mpl.rc('axes', grid = False)           # 不显示网格\n",
    "mpl.rc('axes', facecolor = 'white')    # 设置背景颜色是白色"
   ]
  },
  {
   "cell_type": "markdown",
   "metadata": {},
   "source": [
    "## 练习1：航班乘客变化分析\n",
    "* 分析年度乘客总量变化情况（折线图）\n",
    "* 分析乘客在一年中各月份的分布（柱状图）"
   ]
  },
  {
   "cell_type": "code",
   "execution_count": 4,
   "metadata": {},
   "outputs": [
    {
     "data": {
      "text/html": [
       "<div>\n",
       "<style scoped>\n",
       "    .dataframe tbody tr th:only-of-type {\n",
       "        vertical-align: middle;\n",
       "    }\n",
       "\n",
       "    .dataframe tbody tr th {\n",
       "        vertical-align: top;\n",
       "    }\n",
       "\n",
       "    .dataframe thead th {\n",
       "        text-align: right;\n",
       "    }\n",
       "</style>\n",
       "<table border=\"1\" class=\"dataframe\">\n",
       "  <thead>\n",
       "    <tr style=\"text-align: right;\">\n",
       "      <th></th>\n",
       "      <th>year</th>\n",
       "      <th>month</th>\n",
       "      <th>passengers</th>\n",
       "    </tr>\n",
       "  </thead>\n",
       "  <tbody>\n",
       "    <tr>\n",
       "      <th>0</th>\n",
       "      <td>1949</td>\n",
       "      <td>January</td>\n",
       "      <td>112</td>\n",
       "    </tr>\n",
       "    <tr>\n",
       "      <th>1</th>\n",
       "      <td>1949</td>\n",
       "      <td>February</td>\n",
       "      <td>118</td>\n",
       "    </tr>\n",
       "    <tr>\n",
       "      <th>2</th>\n",
       "      <td>1949</td>\n",
       "      <td>March</td>\n",
       "      <td>132</td>\n",
       "    </tr>\n",
       "    <tr>\n",
       "      <th>3</th>\n",
       "      <td>1949</td>\n",
       "      <td>April</td>\n",
       "      <td>129</td>\n",
       "    </tr>\n",
       "    <tr>\n",
       "      <th>4</th>\n",
       "      <td>1949</td>\n",
       "      <td>May</td>\n",
       "      <td>121</td>\n",
       "    </tr>\n",
       "  </tbody>\n",
       "</table>\n",
       "</div>"
      ],
      "text/plain": [
       "   year     month  passengers\n",
       "0  1949   January         112\n",
       "1  1949  February         118\n",
       "2  1949     March         132\n",
       "3  1949     April         129\n",
       "4  1949       May         121"
      ]
     },
     "execution_count": 4,
     "metadata": {},
     "output_type": "execute_result"
    }
   ],
   "source": [
    "data = sns.load_dataset(\"flights\")\n",
    "data.head()\n",
    "# 年份，月份，乘客数"
   ]
  },
  {
   "cell_type": "code",
   "execution_count": 339,
   "metadata": {
    "scrolled": true
   },
   "outputs": [
    {
     "data": {
      "text/plain": [
       "<matplotlib.legend.Legend at 0x1d0ff550>"
      ]
     },
     "execution_count": 339,
     "metadata": {},
     "output_type": "execute_result"
    },
    {
     "data": {
      "image/png": "[encoded data removed]",
      "text/plain": [
       "<matplotlib.figure.Figure at 0x12c6b0f0>"
      ]
     },
     "metadata": {},
     "output_type": "display_data"
    }
   ],
   "source": [
    "#数据处理\n",
    "y_data=data.groupby('year')['passengers'].sum()\n",
    "#画图\n",
    "ax=plt.subplot(111)\n",
    "ax.plot(y_data,color='blue',marker='.',linestyle='-')\n",
    "ax.bar(y_data.index,y_data,color='gray')\n",
    "#设置\n",
    "ax.set_xlabel(r'$ year $')\n",
    "ax.set_ylabel(r'$ passengers $')\n",
    "ax.set_title(r'$ passengers \\ vs \\ year $')\n",
    "plt.legend(loc='upper left')   \n",
    "\n",
    "#结论 ：  乘客人数逐年递增"
   ]
  },
  {
   "cell_type": "markdown",
   "metadata": {},
   "source": [
    "这个棒，空间利用的好"
   ]
  },
  {
   "cell_type": "code",
   "execution_count": 5,
   "metadata": {},
   "outputs": [
    {
     "data": {
      "text/plain": [
       "([<matplotlib.axis.XTick at 0x7fbd59fbbcf8>,\n",
       "  <matplotlib.axis.XTick at 0x7fbd59fbb630>,\n",
       "  <matplotlib.axis.XTick at 0x7fbd59fbb3c8>,\n",
       "  <matplotlib.axis.XTick at 0x7fbd59f7eba8>,\n",
       "  <matplotlib.axis.XTick at 0x7fbd59f87128>,\n",
       "  <matplotlib.axis.XTick at 0x7fbd59f875c0>,\n",
       "  <matplotlib.axis.XTick at 0x7fbd59f87ac8>,\n",
       "  <matplotlib.axis.XTick at 0x7fbd59f87cf8>,\n",
       "  <matplotlib.axis.XTick at 0x7fbd59f87518>,\n",
       "  <matplotlib.axis.XTick at 0x7fbd59f87160>,\n",
       "  <matplotlib.axis.XTick at 0x7fbd59f8d898>,\n",
       "  <matplotlib.axis.XTick at 0x7fbd59f8dda0>],\n",
       " <a list of 12 Text xticklabel objects>)"
      ]
     },
     "execution_count": 5,
     "metadata": {},
     "output_type": "execute_result"
    },
    {
     "data": {
      "image/png": "[encoded data removed]",
      "text/plain": [
       "<Figure size 720x576 with 1 Axes>"
      ]
     },
     "metadata": {},
     "output_type": "display_data"
    }
   ],
   "source": [
    "y_data=data.groupby('month')['passengers'].mean()\n",
    "y_data.index\n",
    "ax=plt.subplot(111)\n",
    "\n",
    "\n",
    "for i in range(0,len(y_data)):\n",
    "    ax.bar(i,y_data[i],color='silver')\n",
    "    \n",
    "#设置\n",
    "ax.set_xlabel(r'$ month $')\n",
    "ax.set_ylabel(r'$ passengers $')\n",
    "ax.set_title(r'$ passengers \\ vs \\ month $')\n",
    "plt.xticks(range(len(y_data)), [i[:3] for i in y_data.index])\n",
    "\n",
    "#结论 ：  乘客人数上半年逐渐增加 到7,8 月份到峰值，后逐渐减少。"
   ]
  },
  {
   "cell_type": "markdown",
   "metadata": {},
   "source": [
    "这个也不错，考虑到用均值\n",
    "- 可以分年看下特征"
   ]
  },
  {
   "cell_type": "markdown",
   "metadata": {},
   "source": [
    "## 练习2：鸢尾花花型尺寸分析\n",
    "* 萼片（sepal）和花瓣（petal）的大小关系（散点图）\n",
    "* 不同种类（species）鸢尾花萼片和花瓣的大小关系（分类散点子图）\n",
    "* 不同种类鸢尾花萼片和花瓣大小的分布情况（柱状图或者箱式图）"
   ]
  },
  {
   "cell_type": "code",
   "execution_count": 7,
   "metadata": {},
   "outputs": [
    {
     "data": {
      "text/html": [
       "<div>\n",
       "<style scoped>\n",
       "    .dataframe tbody tr th:only-of-type {\n",
       "        vertical-align: middle;\n",
       "    }\n",
       "\n",
       "    .dataframe tbody tr th {\n",
       "        vertical-align: top;\n",
       "    }\n",
       "\n",
       "    .dataframe thead th {\n",
       "        text-align: right;\n",
       "    }\n",
       "</style>\n",
       "<table border=\"1\" class=\"dataframe\">\n",
       "  <thead>\n",
       "    <tr style=\"text-align: right;\">\n",
       "      <th></th>\n",
       "      <th>sepal_length</th>\n",
       "      <th>sepal_width</th>\n",
       "      <th>petal_length</th>\n",
       "      <th>petal_width</th>\n",
       "      <th>species</th>\n",
       "    </tr>\n",
       "  </thead>\n",
       "  <tbody>\n",
       "    <tr>\n",
       "      <th>0</th>\n",
       "      <td>5.1</td>\n",
       "      <td>3.5</td>\n",
       "      <td>1.4</td>\n",
       "      <td>0.2</td>\n",
       "      <td>setosa</td>\n",
       "    </tr>\n",
       "    <tr>\n",
       "      <th>1</th>\n",
       "      <td>4.9</td>\n",
       "      <td>3.0</td>\n",
       "      <td>1.4</td>\n",
       "      <td>0.2</td>\n",
       "      <td>setosa</td>\n",
       "    </tr>\n",
       "    <tr>\n",
       "      <th>2</th>\n",
       "      <td>4.7</td>\n",
       "      <td>3.2</td>\n",
       "      <td>1.3</td>\n",
       "      <td>0.2</td>\n",
       "      <td>setosa</td>\n",
       "    </tr>\n",
       "    <tr>\n",
       "      <th>3</th>\n",
       "      <td>4.6</td>\n",
       "      <td>3.1</td>\n",
       "      <td>1.5</td>\n",
       "      <td>0.2</td>\n",
       "      <td>setosa</td>\n",
       "    </tr>\n",
       "    <tr>\n",
       "      <th>4</th>\n",
       "      <td>5.0</td>\n",
       "      <td>3.6</td>\n",
       "      <td>1.4</td>\n",
       "      <td>0.2</td>\n",
       "      <td>setosa</td>\n",
       "    </tr>\n",
       "  </tbody>\n",
       "</table>\n",
       "</div>"
      ],
      "text/plain": [
       "   sepal_length  sepal_width  petal_length  petal_width species\n",
       "0           5.1          3.5           1.4          0.2  setosa\n",
       "1           4.9          3.0           1.4          0.2  setosa\n",
       "2           4.7          3.2           1.3          0.2  setosa\n",
       "3           4.6          3.1           1.5          0.2  setosa\n",
       "4           5.0          3.6           1.4          0.2  setosa"
      ]
     },
     "execution_count": 7,
     "metadata": {},
     "output_type": "execute_result"
    }
   ],
   "source": [
    "data = sns.load_dataset(\"iris\")\n",
    "data.head()\n",
    "# 萼片长度，萼片宽度，花瓣长度，花瓣宽度，种类"
   ]
  },
  {
   "cell_type": "code",
   "execution_count": 8,
   "metadata": {},
   "outputs": [
    {
     "data": {
      "text/plain": [
       "Text(0.5,1,'$ sepal \\\\_size \\\\ vs \\\\ petal \\\\_size $')"
      ]
     },
     "execution_count": 8,
     "metadata": {},
     "output_type": "execute_result"
    },
    {
     "data": {
      "image/png": "[encoded data removed]",
      "text/plain": [
       "<Figure size 720x576 with 1 Axes>"
      ]
     },
     "metadata": {},
     "output_type": "display_data"
    }
   ],
   "source": [
    "data['sepal_size']=data['sepal_length']*data['sepal_width']\n",
    "data['petal_size']=data['petal_length']*data['petal_width']\n",
    "\n",
    "y_data=data['sepal_size']\n",
    "x_data=data['petal_size']\n",
    "\n",
    "ax=plt.subplot(111)\n",
    "ax.scatter(x_data,y_data,s=20,color='blue',label='r$ petal vs sepal',alpha=0.75)\n",
    "\n",
    "#设置\n",
    "ax.set_xlabel(r'$ petal \\_size $')\n",
    "ax.set_ylabel(r'$ sepal \\_size $')\n",
    "ax.set_title(r'$ sepal \\_size \\ vs \\ petal \\_size $')\n",
    "\n",
    "#结论 ：  大部分的萼片大小与花瓣大小呈正相关"
   ]
  },
  {
   "cell_type": "code",
   "execution_count": 9,
   "metadata": {
    "scrolled": true
   },
   "outputs": [
    {
     "name": "stdout",
     "output_type": "stream",
     "text": [
      "['setosa' 'versicolor' 'virginica']\n"
     ]
    },
    {
     "data": {
      "text/plain": [
       "<matplotlib.legend.Legend at 0x7fbd59b29278>"
      ]
     },
     "execution_count": 9,
     "metadata": {},
     "output_type": "execute_result"
    },
    {
     "data": {
      "image/png": "[encoded data removed]",
      "text/plain": [
       "<Figure size 720x576 with 1 Axes>"
      ]
     },
     "metadata": {},
     "output_type": "display_data"
    }
   ],
   "source": [
    "Species=data['species'].unique()\n",
    "print(Species)\n",
    "\n",
    "colors=['blue','red','green']\n",
    "ax=plt.subplot(111)\n",
    "for i in range(0,len(Species)):\n",
    "    x_data=data.loc[data['species']==Species[i],'petal_size']\n",
    "    y_data=data.loc[data['species']==Species[i],'sepal_size']\n",
    "    ax.scatter(x_data,y_data,s=20,color=colors[i],label=r'$ petal \\_size \\ vs \\ sepal \\_size \\ by \\ $'+Species[i],alpha=0.75)\n",
    "#设置\n",
    "ax.set_xlabel(r'$ petal \\_size $')\n",
    "ax.set_ylabel(r'$ sepal \\_size $')\n",
    "ax.set_title(r'$ sepal \\_size \\ vs \\ petal \\_size $')\n",
    "plt.legend(loc='upper left') \n",
    "\n",
    "#结论 ：  versicolor和virginica 萼片大小与花瓣大小呈正相关，而setosa 的 萼片大小与花瓣大小没有呈现相关关系"
   ]
  },
  {
   "cell_type": "code",
   "execution_count": 1,
   "metadata": {},
   "outputs": [
    {
     "ename": "NameError",
     "evalue": "name 'data' is not defined",
     "output_type": "error",
     "traceback": [
      "\u001b[0;31m---------------------------------------------------------------------------\u001b[0m",
      "\u001b[0;31mNameError\u001b[0m                                 Traceback (most recent call last)",
      "\u001b[0;32m<ipython-input-1-86c52570b671>\u001b[0m in \u001b[0;36m<module>\u001b[0;34m()\u001b[0m\n\u001b[1;32m      1\u001b[0m \u001b[0;31m#不同种类鸢尾花萼片和花瓣大小的分布情况（柱状图或者箱式图）\u001b[0m\u001b[0;34m\u001b[0m\u001b[0;34m\u001b[0m\u001b[0m\n\u001b[0;32m----> 2\u001b[0;31m \u001b[0mx_data\u001b[0m\u001b[0;34m=\u001b[0m\u001b[0mdata\u001b[0m\u001b[0;34m[\u001b[0m\u001b[0;34m'species'\u001b[0m\u001b[0;34m]\u001b[0m\u001b[0;34m.\u001b[0m\u001b[0munique\u001b[0m\u001b[0;34m(\u001b[0m\u001b[0;34m)\u001b[0m\u001b[0;34m\u001b[0m\u001b[0m\n\u001b[0m\u001b[1;32m      3\u001b[0m \u001b[0mprint\u001b[0m\u001b[0;34m(\u001b[0m\u001b[0mx_data\u001b[0m\u001b[0;34m)\u001b[0m\u001b[0;34m\u001b[0m\u001b[0m\n\u001b[1;32m      4\u001b[0m \u001b[0;34m\u001b[0m\u001b[0m\n\u001b[1;32m      5\u001b[0m \u001b[0my1_data\u001b[0m\u001b[0;34m=\u001b[0m\u001b[0;34m[\u001b[0m\u001b[0;34m]\u001b[0m\u001b[0;34m;\u001b[0m\u001b[0my2_data\u001b[0m\u001b[0;34m=\u001b[0m\u001b[0;34m[\u001b[0m\u001b[0;34m]\u001b[0m\u001b[0;34m\u001b[0m\u001b[0m\n",
      "\u001b[0;31mNameError\u001b[0m: name 'data' is not defined"
     ]
    }
   ],
   "source": [
    "#不同种类鸢尾花萼片和花瓣大小的分布情况（柱状图或者箱式图）\n",
    "x_data=data['species'].unique()\n",
    "print(x_data)\n",
    "\n",
    "y1_data=[];y2_data=[]\n",
    "for x in x_data:\n",
    "    y1_data.append(data.loc[data['species']==x,'petal_size'])\n",
    "    y2_data.append(data.loc[data['species']==x,'sepal_size'])\n",
    "\n",
    "ax1=plt.subplot(221)\n",
    "ax1.boxplot(y1_data,\n",
    "           patch_artist=True,\n",
    "           medianprops = {'color': 'blue'},\n",
    "           boxprops = {'color': 'blue', 'facecolor': 'red'},  # 箱子颜色设置，color：边框颜色，facecolor：填充颜色\n",
    "           whiskerprops = {'color': 'red'},  # 猫须颜色whisker\n",
    "           capprops = {'color': 'blue'})    # 猫须界限颜色whisker cap、\n",
    "ax1.set_title(r'$ petal \\_size \\ vs \\ species$')\n",
    "ax1.set_xlabel(r'$species$')\n",
    "ax1.set_ylabel(r'$petal \\_size$')\n",
    "ax1.set_xticklabels(x_data)\n",
    "\n",
    "\n",
    "ax2=plt.subplot(222)\n",
    "ax2.boxplot(y2_data,\n",
    "           patch_artist=True,\n",
    "           medianprops = {'color': 'blue'},\n",
    "           boxprops = {'color': 'blue', 'facecolor': 'red'},  # 箱子颜色设置，color：边框颜色，facecolor：填充颜色\n",
    "           whiskerprops = {'color': 'red'},  # 猫须颜色whisker\n",
    "           capprops = {'color': 'blue'})    # 猫须界限颜色whisker cap\n",
    "ax2.set_title(r'$ sepal \\_size \\ vs \\ species$')\n",
    "ax2.set_xlabel(r'$species$')\n",
    "ax2.set_ylabel(r'$sepal \\_size$')\n",
    "ax2.set_xticklabels(x_data)\n",
    "#结论  ： 不同种类的 萼片大小没有太大差别，花瓣大小差别很大"
   ]
  },
  {
   "cell_type": "markdown",
   "metadata": {},
   "source": [
    "## 练习3：餐厅小费情况分析\n",
    "* 小费和总消费之间的关系（散点图）\n",
    "* 男性顾客和女性顾客，谁更慷慨（分类箱式图）\n",
    "* 抽烟与否是否会对小费金额产生影响（分类箱式图）\n",
    "* 工作日和周末，什么时候顾客给的小费更慷慨（分类箱式图）\n",
    "* 午饭和晚饭，哪一顿顾客更愿意给小费（分类箱式图）\n",
    "* 就餐人数是否会对慷慨度产生影响（分类箱式图）\n",
    "* 性别+抽烟的组合因素对慷慨度的影响（分组柱状图）"
   ]
  },
  {
   "cell_type": "code",
   "execution_count": 28,
   "metadata": {},
   "outputs": [
    {
     "data": {
      "text/html": [
       "<div>\n",
       "<style scoped>\n",
       "    .dataframe tbody tr th:only-of-type {\n",
       "        vertical-align: middle;\n",
       "    }\n",
       "\n",
       "    .dataframe tbody tr th {\n",
       "        vertical-align: top;\n",
       "    }\n",
       "\n",
       "    .dataframe thead th {\n",
       "        text-align: right;\n",
       "    }\n",
       "</style>\n",
       "<table border=\"1\" class=\"dataframe\">\n",
       "  <thead>\n",
       "    <tr style=\"text-align: right;\">\n",
       "      <th></th>\n",
       "      <th>total_bill</th>\n",
       "      <th>tip</th>\n",
       "      <th>sex</th>\n",
       "      <th>smoker</th>\n",
       "      <th>day</th>\n",
       "      <th>time</th>\n",
       "      <th>size</th>\n",
       "    </tr>\n",
       "  </thead>\n",
       "  <tbody>\n",
       "    <tr>\n",
       "      <th>0</th>\n",
       "      <td>16.99</td>\n",
       "      <td>1.01</td>\n",
       "      <td>Female</td>\n",
       "      <td>No</td>\n",
       "      <td>Sun</td>\n",
       "      <td>Dinner</td>\n",
       "      <td>2</td>\n",
       "    </tr>\n",
       "    <tr>\n",
       "      <th>1</th>\n",
       "      <td>10.34</td>\n",
       "      <td>1.66</td>\n",
       "      <td>Male</td>\n",
       "      <td>No</td>\n",
       "      <td>Sun</td>\n",
       "      <td>Dinner</td>\n",
       "      <td>3</td>\n",
       "    </tr>\n",
       "    <tr>\n",
       "      <th>2</th>\n",
       "      <td>21.01</td>\n",
       "      <td>3.50</td>\n",
       "      <td>Male</td>\n",
       "      <td>No</td>\n",
       "      <td>Sun</td>\n",
       "      <td>Dinner</td>\n",
       "      <td>3</td>\n",
       "    </tr>\n",
       "    <tr>\n",
       "      <th>3</th>\n",
       "      <td>23.68</td>\n",
       "      <td>3.31</td>\n",
       "      <td>Male</td>\n",
       "      <td>No</td>\n",
       "      <td>Sun</td>\n",
       "      <td>Dinner</td>\n",
       "      <td>2</td>\n",
       "    </tr>\n",
       "    <tr>\n",
       "      <th>4</th>\n",
       "      <td>24.59</td>\n",
       "      <td>3.61</td>\n",
       "      <td>Female</td>\n",
       "      <td>No</td>\n",
       "      <td>Sun</td>\n",
       "      <td>Dinner</td>\n",
       "      <td>4</td>\n",
       "    </tr>\n",
       "  </tbody>\n",
       "</table>\n",
       "</div>"
      ],
      "text/plain": [
       "   total_bill   tip     sex smoker  day    time  size\n",
       "0       16.99  1.01  Female     No  Sun  Dinner     2\n",
       "1       10.34  1.66    Male     No  Sun  Dinner     3\n",
       "2       21.01  3.50    Male     No  Sun  Dinner     3\n",
       "3       23.68  3.31    Male     No  Sun  Dinner     2\n",
       "4       24.59  3.61  Female     No  Sun  Dinner     4"
      ]
     },
     "execution_count": 28,
     "metadata": {},
     "output_type": "execute_result"
    }
   ],
   "source": [
    "Tips = sns.load_dataset(\"tips\")\n",
    "Tips.head()\n",
    "# 总消费，小费，性别，吸烟与否，就餐星期，就餐时间，就餐人数"
   ]
  },
  {
   "cell_type": "markdown",
   "metadata": {},
   "source": [
    "#小费和总消费之间的关系（散点图）"
   ]
  },
  {
   "cell_type": "code",
   "execution_count": 29,
   "metadata": {},
   "outputs": [
    {
     "data": {
      "text/plain": [
       "<matplotlib.legend.Legend at 0x7fbda5d8da58>"
      ]
     },
     "execution_count": 29,
     "metadata": {},
     "output_type": "execute_result"
    },
    {
     "data": {
      "image/png": "[encoded data removed]",
      "text/plain": [
       "<Figure size 720x576 with 1 Axes>"
      ]
     },
     "metadata": {},
     "output_type": "display_data"
    }
   ],
   "source": [
    "ax=plt.subplot(111)\n",
    "ax.scatter(Tips['total_bill'],Tips['tip'],s=20,color='sienna',label=r'$ tip \\ vs \\ total \\_bill$',alpha=0.75)\n",
    "\n",
    "ax.set_title(r'$ tip \\ vs \\ total \\_bill$')\n",
    "ax.set_xlabel(r'$total \\_bill$')\n",
    "ax.set_ylabel(r'$tip$')\n",
    "plt.legend(loc='best')\n",
    "\n",
    "#结论 ： 小费与总消费呈正相关"
   ]
  },
  {
   "cell_type": "markdown",
   "metadata": {},
   "source": [
    "#男性顾客和女性顾客，谁更慷慨（分类箱式图）"
   ]
  },
  {
   "cell_type": "code",
   "execution_count": 32,
   "metadata": {},
   "outputs": [
    {
     "name": "stdout",
     "output_type": "stream",
     "text": [
      "[Female, Male]\n",
      "Categories (2, object): [Female, Male]\n",
      "222 2 [0      1.01\n",
      "4      3.61\n",
      "11     5.00\n",
      "14     3.02\n",
      "16     1.67\n",
      "18     3.50\n",
      "21     2.75\n",
      "22     2.23\n",
      "29     3.00\n",
      "32     3.00\n",
      "33     2.45\n",
      "37     3.07\n",
      "51     2.60\n",
      "52     5.20\n",
      "57     1.50\n",
      "66     2.47\n",
      "67     1.00\n",
      "71     3.00\n",
      "72     3.14\n",
      "73     5.00\n",
      "74     2.20\n",
      "82     1.83\n",
      "85     5.17\n",
      "92     1.00\n",
      "93     4.30\n",
      "94     3.25\n",
      "100    2.50\n",
      "101    3.00\n",
      "102    2.50\n",
      "103    3.48\n",
      "       ... \n",
      "155    5.14\n",
      "157    3.75\n",
      "158    2.61\n",
      "162    2.00\n",
      "164    3.00\n",
      "168    1.61\n",
      "169    2.00\n",
      "178    4.00\n",
      "186    3.50\n",
      "188    3.50\n",
      "191    4.19\n",
      "197    5.00\n",
      "198    2.00\n",
      "201    2.01\n",
      "202    2.00\n",
      "203    2.50\n",
      "205    3.23\n",
      "209    2.23\n",
      "213    2.50\n",
      "214    6.50\n",
      "215    1.10\n",
      "219    3.09\n",
      "221    3.48\n",
      "223    3.00\n",
      "225    2.50\n",
      "226    2.00\n",
      "229    2.88\n",
      "238    4.67\n",
      "240    2.00\n",
      "243    3.00\n",
      "Name: tip, Length: 87, dtype: float64, 1      1.66\n",
      "2      3.50\n",
      "3      3.31\n",
      "5      4.71\n",
      "6      2.00\n",
      "7      3.12\n",
      "8      1.96\n",
      "9      3.23\n",
      "10     1.71\n",
      "12     1.57\n",
      "13     3.00\n",
      "15     3.92\n",
      "17     3.71\n",
      "19     3.35\n",
      "20     4.08\n",
      "23     7.58\n",
      "24     3.18\n",
      "25     2.34\n",
      "26     2.00\n",
      "27     2.00\n",
      "28     4.30\n",
      "30     1.45\n",
      "31     2.50\n",
      "34     3.27\n",
      "35     3.60\n",
      "36     2.00\n",
      "38     2.31\n",
      "39     5.00\n",
      "40     2.24\n",
      "41     2.54\n",
      "       ... \n",
      "195    1.44\n",
      "196    2.00\n",
      "199    2.00\n",
      "200    4.00\n",
      "204    4.00\n",
      "206    3.41\n",
      "207    3.00\n",
      "208    2.03\n",
      "210    2.00\n",
      "211    5.16\n",
      "212    9.00\n",
      "216    3.00\n",
      "217    1.50\n",
      "218    1.44\n",
      "220    2.20\n",
      "222    1.92\n",
      "224    1.58\n",
      "227    3.00\n",
      "228    2.72\n",
      "230    2.00\n",
      "231    3.00\n",
      "232    3.39\n",
      "233    1.47\n",
      "234    3.00\n",
      "235    1.25\n",
      "236    1.00\n",
      "237    1.17\n",
      "239    5.92\n",
      "241    2.00\n",
      "242    1.75\n",
      "Name: tip, Length: 157, dtype: float64]\n"
     ]
    },
    {
     "name": "stderr",
     "output_type": "stream",
     "text": [
      "/usr/local/lib/python3.5/dist-packages/numpy/core/fromnumeric.py:52: FutureWarning: reshape is deprecated and will raise in a subsequent release. Please use .values.reshape(...) instead\n",
      "  return getattr(obj, method)(*args, **kwds)\n"
     ]
    },
    {
     "data": {
      "text/plain": [
       "([<matplotlib.axis.XTick at 0x7fbd59bf9278>,\n",
       "  <matplotlib.axis.XTick at 0x7fbd59bf4a90>],\n",
       " <a list of 2 Text xticklabel objects>)"
      ]
     },
     "execution_count": 32,
     "metadata": {},
     "output_type": "execute_result"
    },
    {
     "data": {
      "image/png": "[encoded data removed]",
      "text/plain": [
       "<Figure size 720x576 with 1 Axes>"
      ]
     },
     "metadata": {},
     "output_type": "display_data"
    }
   ],
   "source": [
    "x_data=Tips['sex'].unique()\n",
    "print(x_data)\n",
    "y_data=[]\n",
    "for x in x_data:\n",
    "    y_data.append(Tips.loc[Tips['sex']==x,'tip'])\n",
    "print(222,len(y_data),y_data)\n",
    "ax=plt.subplot(111)\n",
    "ax.boxplot(y_data,\n",
    "           patch_artist=True,\n",
    "           medianprops = {'color': 'blue'},\n",
    "           boxprops = {'color': 'blue', 'facecolor': 'red'},  # 箱子颜色设置，color：边框颜色，facecolor：填充颜色\n",
    "           whiskerprops = {'color': 'red'},  # 猫须颜色whisker\n",
    "           capprops = {'color': 'blue'})   # 猫须界限颜色whisker cap\n",
    "\n",
    "ax.set_title(r'$ tip \\ vs \\ sex$')\n",
    "ax.set_xlabel(r'$sex$')\n",
    "ax.set_ylabel(r'$tip$')\n",
    "plt.xticks(range(1,len(x_data)+1), x_data)\n",
    "# plt.legend(loc='best')\n",
    "\n",
    "#结论 ： 男性顾客的小费 稍稍高于女性顾客"
   ]
  },
  {
   "cell_type": "markdown",
   "metadata": {},
   "source": [
    "#抽烟与否是否会对小费金额产生影响（分类箱式图）"
   ]
  },
  {
   "cell_type": "code",
   "execution_count": 34,
   "metadata": {},
   "outputs": [
    {
     "name": "stdout",
     "output_type": "stream",
     "text": [
      "[No, Yes]\n",
      "Categories (2, object): [No, Yes]\n",
      "222 2 [0      1.01\n",
      "1      1.66\n",
      "2      3.50\n",
      "3      3.31\n",
      "4      3.61\n",
      "5      4.71\n",
      "6      2.00\n",
      "7      3.12\n",
      "8      1.96\n",
      "9      3.23\n",
      "10     1.71\n",
      "11     5.00\n",
      "12     1.57\n",
      "13     3.00\n",
      "14     3.02\n",
      "15     3.92\n",
      "16     1.67\n",
      "17     3.71\n",
      "18     3.50\n",
      "19     3.35\n",
      "20     4.08\n",
      "21     2.75\n",
      "22     2.23\n",
      "23     7.58\n",
      "24     3.18\n",
      "25     2.34\n",
      "26     2.00\n",
      "27     2.00\n",
      "28     4.30\n",
      "29     3.00\n",
      "       ... \n",
      "150    2.50\n",
      "151    2.00\n",
      "152    2.74\n",
      "153    2.00\n",
      "154    2.00\n",
      "155    5.14\n",
      "156    5.00\n",
      "157    3.75\n",
      "158    2.61\n",
      "159    2.00\n",
      "160    3.50\n",
      "161    2.50\n",
      "162    2.00\n",
      "163    2.00\n",
      "165    3.48\n",
      "166    2.24\n",
      "167    4.50\n",
      "185    5.00\n",
      "195    1.44\n",
      "212    9.00\n",
      "223    3.00\n",
      "227    3.00\n",
      "228    2.72\n",
      "232    3.39\n",
      "233    1.47\n",
      "235    1.25\n",
      "238    4.67\n",
      "239    5.92\n",
      "242    1.75\n",
      "243    3.00\n",
      "Name: tip, Length: 151, dtype: float64, 56     3.00\n",
      "58     1.76\n",
      "60     3.21\n",
      "61     2.00\n",
      "62     1.98\n",
      "63     3.76\n",
      "67     1.00\n",
      "69     2.09\n",
      "72     3.14\n",
      "73     5.00\n",
      "76     3.08\n",
      "80     3.00\n",
      "83     5.00\n",
      "90     3.00\n",
      "92     1.00\n",
      "93     4.30\n",
      "95     4.73\n",
      "96     4.00\n",
      "97     1.50\n",
      "98     3.00\n",
      "100    2.50\n",
      "101    3.00\n",
      "102    2.50\n",
      "103    3.48\n",
      "105    1.64\n",
      "106    4.06\n",
      "107    4.29\n",
      "109    4.00\n",
      "138    2.00\n",
      "164    3.00\n",
      "       ... \n",
      "203    2.50\n",
      "204    4.00\n",
      "205    3.23\n",
      "206    3.41\n",
      "207    3.00\n",
      "208    2.03\n",
      "209    2.23\n",
      "210    2.00\n",
      "211    5.16\n",
      "213    2.50\n",
      "214    6.50\n",
      "215    1.10\n",
      "216    3.00\n",
      "217    1.50\n",
      "218    1.44\n",
      "219    3.09\n",
      "220    2.20\n",
      "221    3.48\n",
      "222    1.92\n",
      "224    1.58\n",
      "225    2.50\n",
      "226    2.00\n",
      "229    2.88\n",
      "230    2.00\n",
      "231    3.00\n",
      "234    3.00\n",
      "236    1.00\n",
      "237    1.17\n",
      "240    2.00\n",
      "241    2.00\n",
      "Name: tip, Length: 93, dtype: float64]\n"
     ]
    },
    {
     "name": "stderr",
     "output_type": "stream",
     "text": [
      "/usr/local/lib/python3.5/dist-packages/numpy/core/fromnumeric.py:52: FutureWarning: reshape is deprecated and will raise in a subsequent release. Please use .values.reshape(...) instead\n",
      "  return getattr(obj, method)(*args, **kwds)\n"
     ]
    },
    {
     "data": {
      "text/plain": [
       "([<matplotlib.axis.XTick at 0x7fbd59b7dc18>,\n",
       "  <matplotlib.axis.XTick at 0x7fbd59b7d470>],\n",
       " <a list of 2 Text xticklabel objects>)"
      ]
     },
     "execution_count": 34,
     "metadata": {},
     "output_type": "execute_result"
    },
    {
     "data": {
      "image/png": "[encoded data removed]",
      "text/plain": [
       "<Figure size 720x576 with 1 Axes>"
      ]
     },
     "metadata": {},
     "output_type": "display_data"
    }
   ],
   "source": [
    "x_data=Tips['smoker'].unique()\n",
    "print(x_data)\n",
    "y_data=[]\n",
    "for x in x_data:\n",
    "    y_data.append(Tips.loc[Tips['smoker']==x,'tip'])\n",
    "print(222,len(y_data),y_data)\n",
    "ax=plt.subplot(111)\n",
    "ax.boxplot(y_data,\n",
    "           patch_artist=True,\n",
    "           medianprops = {'color': 'blue'},\n",
    "           boxprops = {'color': 'blue', 'facecolor': 'red'},  # 箱子颜色设置，color：边框颜色，facecolor：填充颜色\n",
    "           whiskerprops = {'color': 'red'},  # 猫须颜色whisker\n",
    "           capprops = {'color': 'blue'})   # 猫须界限颜色whisker cap\n",
    "\n",
    "ax.set_title(r'$ tip \\ vs \\ smoker$')\n",
    "ax.set_xlabel(r'$smoker$')\n",
    "ax.set_ylabel(r'$tip$')\n",
    "plt.xticks(range(1,len(x_data)+1), x_data)\n",
    "# plt.legend(loc='best')\n",
    "\n",
    "#结论  ： 吸烟顾客 的小费稍稍高于不吸烟的顾客"
   ]
  },
  {
   "cell_type": "markdown",
   "metadata": {},
   "source": [
    "#工作日和周末，什么时候顾客给的小费更慷慨（分类箱式图）"
   ]
  },
  {
   "cell_type": "code",
   "execution_count": 155,
   "metadata": {},
   "outputs": [
    {
     "name": "stdout",
     "output_type": "stream",
     "text": [
      "[Sun, Sat, Thur, Fri]\n",
      "Categories (4, object): [Sun, Sat, Thur, Fri]\n"
     ]
    },
    {
     "data": {
      "text/plain": [
       "([<matplotlib.axis.XTick at 0x16109b38>,\n",
       "  <matplotlib.axis.XTick at 0x1355a780>,\n",
       "  <matplotlib.axis.XTick at 0x1802ea20>,\n",
       "  <matplotlib.axis.XTick at 0x126dca90>],\n",
       " <a list of 4 Text xticklabel objects>)"
      ]
     },
     "execution_count": 155,
     "metadata": {},
     "output_type": "execute_result"
    },
    {
     "data": {
      "image/png": "[encoded data removed]",
      "text/plain": [
       "<matplotlib.figure.Figure at 0x1393add8>"
      ]
     },
     "metadata": {},
     "output_type": "display_data"
    }
   ],
   "source": [
    "x_data1=Tips['day'].unique()\n",
    "print(x1_data)\n",
    "x_data=['Thur','Fri','Sat','Sun']\n",
    "y_data=[]\n",
    "for x in x_data:\n",
    "    y_data.append(Tips.loc[Tips['day']==x,'tip'])\n",
    "# print(222,len(y_data),y_data)\n",
    "ax=plt.subplot(111)\n",
    "ax.boxplot(y_data,\n",
    "           patch_artist=True,\n",
    "           medianprops = {'color': 'blue'},\n",
    "           boxprops = {'color': 'blue', 'facecolor': 'red'},  # 箱子颜色设置，color：边框颜色，facecolor：填充颜色\n",
    "           whiskerprops = {'color': 'red'},  # 猫须颜色whisker\n",
    "           capprops = {'color': 'blue'})   # 猫须界限颜色whisker cap\n",
    "\n",
    "ax.set_title(r'$ tip \\ vs \\ day$')\n",
    "ax.set_xlabel(r'$day$')\n",
    "ax.set_ylabel(r'$tip$')\n",
    "plt.xticks(range(1,len(x_data)+1), x_data)\n",
    "# plt.legend(loc='best')\n",
    "\n",
    "#结论  ： 周日 的小费高于其它的时间。"
   ]
  },
  {
   "cell_type": "markdown",
   "metadata": {},
   "source": [
    "#午饭和晚饭，哪一顿顾客更愿意给小费（分类箱式图）"
   ]
  },
  {
   "cell_type": "code",
   "execution_count": 143,
   "metadata": {},
   "outputs": [
    {
     "name": "stdout",
     "output_type": "stream",
     "text": [
      "[Dinner, Lunch]\n",
      "Categories (2, object): [Dinner, Lunch]\n"
     ]
    },
    {
     "data": {
      "text/plain": [
       "([<matplotlib.axis.XTick at 0x14d12390>,\n",
       "  <matplotlib.axis.XTick at 0x15815da0>],\n",
       " <a list of 2 Text xticklabel objects>)"
      ]
     },
     "execution_count": 143,
     "metadata": {},
     "output_type": "execute_result"
    },
    {
     "data": {
      "image/png": "[encoded data removed]",
      "text/plain": [
       "<matplotlib.figure.Figure at 0x1334bda0>"
      ]
     },
     "metadata": {},
     "output_type": "display_data"
    }
   ],
   "source": [
    "x_data=Tips['time'].unique()\n",
    "print(x_data)\n",
    "y_data=[]\n",
    "for x in x_data:\n",
    "    y_data.append(Tips.loc[Tips['time']==x,'tip'])\n",
    "# print(222,len(y_data),y_data)\n",
    "ax=plt.subplot(111)\n",
    "ax.boxplot(y_data,\n",
    "           patch_artist=True,\n",
    "           medianprops = {'color': 'blue'},\n",
    "           boxprops = {'color': 'blue', 'facecolor': 'red'},  # 箱子颜色设置，color：边框颜色，facecolor：填充颜色\n",
    "           whiskerprops = {'color': 'red'},  # 猫须颜色whisker\n",
    "           capprops = {'color': 'blue'})   # 猫须界限颜色whisker cap\n",
    "\n",
    "ax.set_title(r'$ tip \\ vs \\ time$')\n",
    "ax.set_xlabel(r'$time$')\n",
    "ax.set_ylabel(r'$tip$')\n",
    "plt.xticks(range(1,len(x_data)+1), x_data)\n",
    "\n",
    "#结论  ： 晚餐 的小费高于中餐。"
   ]
  },
  {
   "cell_type": "markdown",
   "metadata": {},
   "source": [
    "#就餐人数是否会对慷慨度产生影响（分类箱式图）"
   ]
  },
  {
   "cell_type": "code",
   "execution_count": 350,
   "metadata": {
    "scrolled": true
   },
   "outputs": [
    {
     "data": {
      "text/plain": [
       "([<matplotlib.axis.XTick at 0x1c175b00>,\n",
       "  <matplotlib.axis.XTick at 0x1cece978>,\n",
       "  <matplotlib.axis.XTick at 0x1d4da6d8>,\n",
       "  <matplotlib.axis.XTick at 0x1ceb5048>,\n",
       "  <matplotlib.axis.XTick at 0x1c897f28>,\n",
       "  <matplotlib.axis.XTick at 0x1c1e4eb8>],\n",
       " <a list of 6 Text xticklabel objects>)"
      ]
     },
     "execution_count": 350,
     "metadata": {},
     "output_type": "execute_result"
    },
    {
     "data": {
      "image/png": "[encoded data removed]",
      "text/plain": [
       "<matplotlib.figure.Figure at 0x1c10e320>"
      ]
     },
     "metadata": {},
     "output_type": "display_data"
    }
   ],
   "source": [
    "x_data=Tips['size'].unique()\n",
    "x_data.sort()\n",
    "y_data=[]\n",
    "for x in x_data:\n",
    "    y_data.append(Tips.loc[Tips['size']==x,'tip'])\n",
    "ax=plt.subplot(111)\n",
    "ax.boxplot(y_data,\n",
    "           patch_artist=True,\n",
    "           medianprops = {'color': 'blue'},\n",
    "           boxprops = {'color': 'blue', 'facecolor': 'red'},  # 箱子颜色设置，color：边框颜色，facecolor：填充颜色\n",
    "           whiskerprops = {'color': 'red'},  # 猫须颜色whisker\n",
    "           capprops = {'color': 'blue'})   # 猫须界限颜色whisker cap\n",
    "ax.set_title(r'$ tip \\ vs \\ size$')\n",
    "ax.set_xlabel(r'$size$')\n",
    "ax.set_ylabel(r'$tip$')\n",
    "plt.xticks(range(1,len(x_data)+1), x_data)\n",
    "#结论  ： 就餐人数多的的小费高于就餐人数少的。"
   ]
  },
  {
   "cell_type": "code",
   "execution_count": 191,
   "metadata": {},
   "outputs": [
    {
     "data": {
      "text/html": [
       "<div>\n",
       "<style>\n",
       "    .dataframe thead tr:only-child th {\n",
       "        text-align: right;\n",
       "    }\n",
       "\n",
       "    .dataframe thead th {\n",
       "        text-align: left;\n",
       "    }\n",
       "\n",
       "    .dataframe tbody tr th {\n",
       "        vertical-align: top;\n",
       "    }\n",
       "</style>\n",
       "<table border=\"1\" class=\"dataframe\">\n",
       "  <thead>\n",
       "    <tr style=\"text-align: right;\">\n",
       "      <th></th>\n",
       "      <th>total_bill</th>\n",
       "      <th>tip</th>\n",
       "      <th>sex</th>\n",
       "      <th>smoker</th>\n",
       "      <th>day</th>\n",
       "      <th>time</th>\n",
       "      <th>size</th>\n",
       "    </tr>\n",
       "  </thead>\n",
       "  <tbody>\n",
       "    <tr>\n",
       "      <th>0</th>\n",
       "      <td>16.99</td>\n",
       "      <td>1.01</td>\n",
       "      <td>Female</td>\n",
       "      <td>No</td>\n",
       "      <td>Sun</td>\n",
       "      <td>Dinner</td>\n",
       "      <td>2</td>\n",
       "    </tr>\n",
       "    <tr>\n",
       "      <th>1</th>\n",
       "      <td>10.34</td>\n",
       "      <td>1.66</td>\n",
       "      <td>Male</td>\n",
       "      <td>No</td>\n",
       "      <td>Sun</td>\n",
       "      <td>Dinner</td>\n",
       "      <td>3</td>\n",
       "    </tr>\n",
       "    <tr>\n",
       "      <th>2</th>\n",
       "      <td>21.01</td>\n",
       "      <td>3.50</td>\n",
       "      <td>Male</td>\n",
       "      <td>No</td>\n",
       "      <td>Sun</td>\n",
       "      <td>Dinner</td>\n",
       "      <td>3</td>\n",
       "    </tr>\n",
       "    <tr>\n",
       "      <th>3</th>\n",
       "      <td>23.68</td>\n",
       "      <td>3.31</td>\n",
       "      <td>Male</td>\n",
       "      <td>No</td>\n",
       "      <td>Sun</td>\n",
       "      <td>Dinner</td>\n",
       "      <td>2</td>\n",
       "    </tr>\n",
       "    <tr>\n",
       "      <th>4</th>\n",
       "      <td>24.59</td>\n",
       "      <td>3.61</td>\n",
       "      <td>Female</td>\n",
       "      <td>No</td>\n",
       "      <td>Sun</td>\n",
       "      <td>Dinner</td>\n",
       "      <td>4</td>\n",
       "    </tr>\n",
       "  </tbody>\n",
       "</table>\n",
       "</div>"
      ],
      "text/plain": [
       "   total_bill   tip     sex smoker  day    time  size\n",
       "0       16.99  1.01  Female     No  Sun  Dinner     2\n",
       "1       10.34  1.66    Male     No  Sun  Dinner     3\n",
       "2       21.01  3.50    Male     No  Sun  Dinner     3\n",
       "3       23.68  3.31    Male     No  Sun  Dinner     2\n",
       "4       24.59  3.61  Female     No  Sun  Dinner     4"
      ]
     },
     "execution_count": 191,
     "metadata": {},
     "output_type": "execute_result"
    }
   ],
   "source": [
    "# 性别+抽烟的组合因素对慷慨度的影响（分组柱状图）\n",
    "Tips.head()"
   ]
  },
  {
   "cell_type": "code",
   "execution_count": 9,
   "metadata": {},
   "outputs": [
    {
     "data": {
      "text/html": [
       "<div>\n",
       "<style scoped>\n",
       "    .dataframe tbody tr th:only-of-type {\n",
       "        vertical-align: middle;\n",
       "    }\n",
       "\n",
       "    .dataframe tbody tr th {\n",
       "        vertical-align: top;\n",
       "    }\n",
       "\n",
       "    .dataframe thead th {\n",
       "        text-align: right;\n",
       "    }\n",
       "</style>\n",
       "<table border=\"1\" class=\"dataframe\">\n",
       "  <thead>\n",
       "    <tr style=\"text-align: right;\">\n",
       "      <th>smoker</th>\n",
       "      <th>Yes</th>\n",
       "      <th>No</th>\n",
       "    </tr>\n",
       "    <tr>\n",
       "      <th>sex</th>\n",
       "      <th></th>\n",
       "      <th></th>\n",
       "    </tr>\n",
       "  </thead>\n",
       "  <tbody>\n",
       "    <tr>\n",
       "      <th>Male</th>\n",
       "      <td>3.051167</td>\n",
       "      <td>3.113402</td>\n",
       "    </tr>\n",
       "    <tr>\n",
       "      <th>Female</th>\n",
       "      <td>2.931515</td>\n",
       "      <td>2.773519</td>\n",
       "    </tr>\n",
       "  </tbody>\n",
       "</table>\n",
       "</div>"
      ],
      "text/plain": [
       "smoker       Yes        No\n",
       "sex                       \n",
       "Male    3.051167  3.113402\n",
       "Female  2.931515  2.773519"
      ]
     },
     "execution_count": 9,
     "metadata": {},
     "output_type": "execute_result"
    }
   ],
   "source": [
    "Tips_=Tips.groupby(['sex','smoker'])['tip'].mean()\n",
    "Tips_new=Tips_.unstack()\n",
    "Tips_new"
   ]
  },
  {
   "cell_type": "code",
   "execution_count": 271,
   "metadata": {},
   "outputs": [
    {
     "data": {
      "image/png": "[encoded data removed]",
      "text/plain": [
       "<matplotlib.figure.Figure at 0x1a9bfda0>"
      ]
     },
     "metadata": {},
     "output_type": "display_data"
    }
   ],
   "source": [
    "# 性别+抽烟的组合因素对慷慨度的影响（分组柱状图）\n",
    "     #直接使用   绘制分组柱状图的函数\n",
    "def groupedbarplot(x_data, y_data_list, y_data_names, colors, x_label, y_label, title):\n",
    "    _, ax = plt.subplots()\n",
    "    # 设置每一组柱状图的宽度\n",
    "    total_width = 0.5\n",
    "    # 设置每一个柱状图的宽度\n",
    "    ind_width = total_width / len(y_data_list)\n",
    "    # 计算每一个柱状图的中心偏移\n",
    "    alteration = np.arange(-total_width/2+ind_width/2, total_width/2+ind_width/2, ind_width)\n",
    "\n",
    "    # 分别绘制每一个柱状图\n",
    "    for i in range(0, len(y_data_list)):\n",
    "        # 横向散开绘制\n",
    "        ax.bar(x_data + alteration[i], y_data_list[i], color = colors[i], label = y_data_names[i], width = ind_width)\n",
    "    ax.set_ylabel(y_label)\n",
    "    ax.set_xlabel(x_label)\n",
    "#     ax.set_xticklabels(Tips_new.index)\n",
    "    ax.set_title(title)\n",
    "    ax.legend(loc = 'upper right')\n",
    "    plt.xticks([0,1],Tips_new.index)\n",
    "    plt.ylim(0,4)\n",
    "\n",
    "# 调用绘图函数\n",
    "groupedbarplot(x_data =range(len(Tips_new.index.values))\n",
    "               , y_data_list = [Tips_new['Yes'], Tips_new['No']]\n",
    "               , y_data_names = ['smoker', 'no smoker']\n",
    "               , colors = ['#539caf', '#7663b0']\n",
    "               , x_label = 'sex&smoker '\n",
    "               , y_label = 'tip '\n",
    "               , title = 'tip vs sex&smoker')\n",
    "\n",
    "#结论：  男性 顾客 比女性顾客的小费稍高 ， 吸烟的顾客和不吸烟的顾客相比，差别不明显"
   ]
  },
  {
   "cell_type": "markdown",
   "metadata": {},
   "source": [
    "## 练习4：泰坦尼克号海难幸存状况分析\n",
    "* 不同仓位等级中幸存和遇难的乘客比例（堆积柱状图）\n",
    "* 不同性别的幸存比例（堆积柱状图）\n",
    "* 幸存和遇难乘客的票价分布（分类箱式图）\n",
    "* 幸存和遇难乘客的年龄分布（分类箱式图）\n",
    "* 不同上船港口的乘客仓位等级分布（分组柱状图）\n",
    "* 幸存和遇难乘客堂兄弟姐妹的数量分布（分类箱式图）\n",
    "* 幸存和遇难乘客父母子女的数量分布（分类箱式图）\n",
    "* 单独乘船与否和幸存之间有没有联系（堆积柱状图或者分组柱状图）"
   ]
  },
  {
   "cell_type": "code",
   "execution_count": 351,
   "metadata": {},
   "outputs": [
    {
     "data": {
      "text/html": [
       "<div>\n",
       "<style>\n",
       "    .dataframe thead tr:only-child th {\n",
       "        text-align: right;\n",
       "    }\n",
       "\n",
       "    .dataframe thead th {\n",
       "        text-align: left;\n",
       "    }\n",
       "\n",
       "    .dataframe tbody tr th {\n",
       "        vertical-align: top;\n",
       "    }\n",
       "</style>\n",
       "<table border=\"1\" class=\"dataframe\">\n",
       "  <thead>\n",
       "    <tr style=\"text-align: right;\">\n",
       "      <th></th>\n",
       "      <th>survived</th>\n",
       "      <th>pclass</th>\n",
       "      <th>sex</th>\n",
       "      <th>age</th>\n",
       "      <th>sibsp</th>\n",
       "      <th>parch</th>\n",
       "      <th>fare</th>\n",
       "      <th>embarked</th>\n",
       "      <th>class</th>\n",
       "      <th>who</th>\n",
       "      <th>adult_male</th>\n",
       "      <th>deck</th>\n",
       "      <th>embark_town</th>\n",
       "      <th>alive</th>\n",
       "      <th>alone</th>\n",
       "    </tr>\n",
       "  </thead>\n",
       "  <tbody>\n",
       "    <tr>\n",
       "      <th>0</th>\n",
       "      <td>0</td>\n",
       "      <td>3</td>\n",
       "      <td>male</td>\n",
       "      <td>22.0</td>\n",
       "      <td>1</td>\n",
       "      <td>0</td>\n",
       "      <td>7.2500</td>\n",
       "      <td>S</td>\n",
       "      <td>Third</td>\n",
       "      <td>man</td>\n",
       "      <td>True</td>\n",
       "      <td>NaN</td>\n",
       "      <td>Southampton</td>\n",
       "      <td>no</td>\n",
       "      <td>False</td>\n",
       "    </tr>\n",
       "    <tr>\n",
       "      <th>1</th>\n",
       "      <td>1</td>\n",
       "      <td>1</td>\n",
       "      <td>female</td>\n",
       "      <td>38.0</td>\n",
       "      <td>1</td>\n",
       "      <td>0</td>\n",
       "      <td>71.2833</td>\n",
       "      <td>C</td>\n",
       "      <td>First</td>\n",
       "      <td>woman</td>\n",
       "      <td>False</td>\n",
       "      <td>C</td>\n",
       "      <td>Cherbourg</td>\n",
       "      <td>yes</td>\n",
       "      <td>False</td>\n",
       "    </tr>\n",
       "    <tr>\n",
       "      <th>2</th>\n",
       "      <td>1</td>\n",
       "      <td>3</td>\n",
       "      <td>female</td>\n",
       "      <td>26.0</td>\n",
       "      <td>0</td>\n",
       "      <td>0</td>\n",
       "      <td>7.9250</td>\n",
       "      <td>S</td>\n",
       "      <td>Third</td>\n",
       "      <td>woman</td>\n",
       "      <td>False</td>\n",
       "      <td>NaN</td>\n",
       "      <td>Southampton</td>\n",
       "      <td>yes</td>\n",
       "      <td>True</td>\n",
       "    </tr>\n",
       "    <tr>\n",
       "      <th>3</th>\n",
       "      <td>1</td>\n",
       "      <td>1</td>\n",
       "      <td>female</td>\n",
       "      <td>35.0</td>\n",
       "      <td>1</td>\n",
       "      <td>0</td>\n",
       "      <td>53.1000</td>\n",
       "      <td>S</td>\n",
       "      <td>First</td>\n",
       "      <td>woman</td>\n",
       "      <td>False</td>\n",
       "      <td>C</td>\n",
       "      <td>Southampton</td>\n",
       "      <td>yes</td>\n",
       "      <td>False</td>\n",
       "    </tr>\n",
       "    <tr>\n",
       "      <th>4</th>\n",
       "      <td>0</td>\n",
       "      <td>3</td>\n",
       "      <td>male</td>\n",
       "      <td>35.0</td>\n",
       "      <td>0</td>\n",
       "      <td>0</td>\n",
       "      <td>8.0500</td>\n",
       "      <td>S</td>\n",
       "      <td>Third</td>\n",
       "      <td>man</td>\n",
       "      <td>True</td>\n",
       "      <td>NaN</td>\n",
       "      <td>Southampton</td>\n",
       "      <td>no</td>\n",
       "      <td>True</td>\n",
       "    </tr>\n",
       "  </tbody>\n",
       "</table>\n",
       "</div>"
      ],
      "text/plain": [
       "   survived  pclass     sex   age  sibsp  parch     fare embarked  class  \\\n",
       "0         0       3    male  22.0      1      0   7.2500        S  Third   \n",
       "1         1       1  female  38.0      1      0  71.2833        C  First   \n",
       "2         1       3  female  26.0      0      0   7.9250        S  Third   \n",
       "3         1       1  female  35.0      1      0  53.1000        S  First   \n",
       "4         0       3    male  35.0      0      0   8.0500        S  Third   \n",
       "\n",
       "     who  adult_male deck  embark_town alive  alone  \n",
       "0    man        True  NaN  Southampton    no  False  \n",
       "1  woman       False    C    Cherbourg   yes  False  \n",
       "2  woman       False  NaN  Southampton   yes   True  \n",
       "3  woman       False    C  Southampton   yes  False  \n",
       "4    man        True  NaN  Southampton    no   True  "
      ]
     },
     "execution_count": 351,
     "metadata": {},
     "output_type": "execute_result"
    }
   ],
   "source": [
    "titanic = sns.load_dataset(\"titanic\")\n",
    "titanic.head()\n",
    "# 幸存与否，仓位等级，性别，年龄，堂兄弟姐妹数，父母子女数，票价，上船港口缩写，仓位等级，人员分类，是否成年男性，所在甲板，上船港口，是否幸存，是否单独乘船"
   ]
  },
  {
   "cell_type": "code",
   "execution_count": 352,
   "metadata": {
    "collapsed": true
   },
   "outputs": [],
   "source": [
    "def stackedbarplot(x_data, y_data_list, y_data_names, colors, x_label, y_label, title):\n",
    "    _, ax = plt.subplots()\n",
    "    # 循环绘制堆积柱状图\n",
    "    for i in range(0, len(y_data_list)):             \n",
    "        if i == 0:\n",
    "            ax.bar(x_data, y_data_list[i], color = colors[i], align = 'center', label = y_data_names[i])\n",
    "        else:\n",
    "            # 采用堆积的方式，除了第一个分类，后面的分类都从前一个分类的柱状图接着画\n",
    "            # 用归一化保证最终累积结果为1\n",
    "            ax.bar(x_data, y_data_list[i], color = colors[i], bottom = y_data_list[i - 1], align = 'center', label = y_data_names[i])\n",
    "    ax.set_ylabel(y_label)\n",
    "    ax.set_xlabel(x_label)\n",
    "    ax.set_title(title)\n",
    "    ax.legend(loc = 'best') # 设定图例位置"
   ]
  },
  {
   "cell_type": "code",
   "execution_count": 353,
   "metadata": {},
   "outputs": [
    {
     "data": {
      "text/html": [
       "<div>\n",
       "<style>\n",
       "    .dataframe thead tr:only-child th {\n",
       "        text-align: right;\n",
       "    }\n",
       "\n",
       "    .dataframe thead th {\n",
       "        text-align: left;\n",
       "    }\n",
       "\n",
       "    .dataframe tbody tr th {\n",
       "        vertical-align: top;\n",
       "    }\n",
       "</style>\n",
       "<table border=\"1\" class=\"dataframe\">\n",
       "  <thead>\n",
       "    <tr style=\"text-align: right;\">\n",
       "      <th>alive</th>\n",
       "      <th>no</th>\n",
       "      <th>yes</th>\n",
       "      <th>total</th>\n",
       "      <th>no_prop</th>\n",
       "      <th>yes_prop</th>\n",
       "    </tr>\n",
       "    <tr>\n",
       "      <th>pclass</th>\n",
       "      <th></th>\n",
       "      <th></th>\n",
       "      <th></th>\n",
       "      <th></th>\n",
       "      <th></th>\n",
       "    </tr>\n",
       "  </thead>\n",
       "  <tbody>\n",
       "    <tr>\n",
       "      <th>1</th>\n",
       "      <td>80</td>\n",
       "      <td>136</td>\n",
       "      <td>216</td>\n",
       "      <td>37.037037</td>\n",
       "      <td>62.962963</td>\n",
       "    </tr>\n",
       "    <tr>\n",
       "      <th>2</th>\n",
       "      <td>97</td>\n",
       "      <td>87</td>\n",
       "      <td>184</td>\n",
       "      <td>52.717391</td>\n",
       "      <td>47.282609</td>\n",
       "    </tr>\n",
       "    <tr>\n",
       "      <th>3</th>\n",
       "      <td>372</td>\n",
       "      <td>119</td>\n",
       "      <td>491</td>\n",
       "      <td>75.763747</td>\n",
       "      <td>24.236253</td>\n",
       "    </tr>\n",
       "  </tbody>\n",
       "</table>\n",
       "</div>"
      ],
      "text/plain": [
       "alive    no  yes  total    no_prop   yes_prop\n",
       "pclass                                       \n",
       "1        80  136    216  37.037037  62.962963\n",
       "2        97   87    184  52.717391  47.282609\n",
       "3       372  119    491  75.763747  24.236253"
      ]
     },
     "execution_count": 353,
     "metadata": {},
     "output_type": "execute_result"
    }
   ],
   "source": [
    "titanic_=titanic.groupby('pclass')['alive'].value_counts()\n",
    "titanic_alivebyclass=titanic_.unstack()\n",
    "titanic_alivebyclass['total']=titanic_alivebyclass['no']+titanic_alivebyclass['yes']\n",
    "titanic_alivebyclass['no_prop']=titanic_alivebyclass['no']/titanic_alivebyclass['total']*100\n",
    "titanic_alivebyclass['yes_prop']=titanic_alivebyclass['yes']/titanic_alivebyclass['total']*100\n",
    "titanic_alivebyclass"
   ]
  },
  {
   "cell_type": "code",
   "execution_count": 335,
   "metadata": {},
   "outputs": [
    {
     "data": {
      "text/plain": [
       "([<matplotlib.axis.XTick at 0x1e3ee940>,\n",
       "  <matplotlib.axis.XTick at 0x1e41efd0>,\n",
       "  <matplotlib.axis.XTick at 0x1e3f71d0>],\n",
       " <a list of 3 Text xticklabel objects>)"
      ]
     },
     "execution_count": 335,
     "metadata": {},
     "output_type": "execute_result"
    },
    {
     "data": {
      "image/png": "[encoded data removed]",
      "text/plain": [
       "<matplotlib.figure.Figure at 0x1e42f0b8>"
      ]
     },
     "metadata": {},
     "output_type": "display_data"
    }
   ],
   "source": [
    "# 不同仓位等级中幸存和遇难的乘客比例（堆积柱状图）\n",
    "# 调用绘图函数\n",
    "stackedbarplot(x_data = titanic_alivebyclass.index.values\n",
    "               , y_data_list = [titanic_alivebyclass['no_prop'], titanic_alivebyclass['yes_prop']]\n",
    "               , y_data_names = ['notalive', 'alive']\n",
    "               , colors = ['#539caf', '#7663b0','penu']\n",
    "               , x_label = 'class'\n",
    "               , y_label = 'Proportion of notalive/alive'\n",
    "               , title = 'notalive/alive by class')\n",
    "plt.xticks([1,2,3],['1','2','3'])\n",
    "\n",
    "# 结论： 一等舱中乘客获救比例较大，二等舱次之，三等舱最小"
   ]
  },
  {
   "cell_type": "code",
   "execution_count": 323,
   "metadata": {},
   "outputs": [
    {
     "data": {
      "text/html": [
       "<div>\n",
       "<style>\n",
       "    .dataframe thead tr:only-child th {\n",
       "        text-align: right;\n",
       "    }\n",
       "\n",
       "    .dataframe thead th {\n",
       "        text-align: left;\n",
       "    }\n",
       "\n",
       "    .dataframe tbody tr th {\n",
       "        vertical-align: top;\n",
       "    }\n",
       "</style>\n",
       "<table border=\"1\" class=\"dataframe\">\n",
       "  <thead>\n",
       "    <tr style=\"text-align: right;\">\n",
       "      <th>alive</th>\n",
       "      <th>no</th>\n",
       "      <th>yes</th>\n",
       "      <th>total</th>\n",
       "      <th>no_prop</th>\n",
       "      <th>yes_prop</th>\n",
       "    </tr>\n",
       "    <tr>\n",
       "      <th>sex</th>\n",
       "      <th></th>\n",
       "      <th></th>\n",
       "      <th></th>\n",
       "      <th></th>\n",
       "      <th></th>\n",
       "    </tr>\n",
       "  </thead>\n",
       "  <tbody>\n",
       "    <tr>\n",
       "      <th>female</th>\n",
       "      <td>81</td>\n",
       "      <td>233</td>\n",
       "      <td>314</td>\n",
       "      <td>25.796178</td>\n",
       "      <td>74.203822</td>\n",
       "    </tr>\n",
       "    <tr>\n",
       "      <th>male</th>\n",
       "      <td>468</td>\n",
       "      <td>109</td>\n",
       "      <td>577</td>\n",
       "      <td>81.109185</td>\n",
       "      <td>18.890815</td>\n",
       "    </tr>\n",
       "  </tbody>\n",
       "</table>\n",
       "</div>"
      ],
      "text/plain": [
       "alive    no  yes  total    no_prop   yes_prop\n",
       "sex                                          \n",
       "female   81  233    314  25.796178  74.203822\n",
       "male    468  109    577  81.109185  18.890815"
      ]
     },
     "execution_count": 323,
     "metadata": {},
     "output_type": "execute_result"
    }
   ],
   "source": [
    "# 不同性别的幸存比例（堆积柱状图）\n",
    "titanic_=titanic.groupby('sex')['alive'].value_counts()\n",
    "titanic_alivebysex=titanic_.unstack()\n",
    "titanic_alivebysex\n",
    "titanic_alivebysex['total']      =titanic_alivebysex['no']  +titanic_alivebysex['yes']\n",
    "titanic_alivebysex['no_prop']  =titanic_alivebysex['no']  /titanic_alivebysex['total']*100\n",
    "titanic_alivebysex['yes_prop']=titanic_alivebysex['yes']/titanic_alivebysex['total']*100\n",
    "titanic_alivebysex"
   ]
  },
  {
   "cell_type": "code",
   "execution_count": 354,
   "metadata": {},
   "outputs": [
    {
     "data": {
      "text/plain": [
       "([<matplotlib.axis.XTick at 0x1e3f7400>,\n",
       "  <matplotlib.axis.XTick at 0x1e111588>],\n",
       " <a list of 2 Text xticklabel objects>)"
      ]
     },
     "execution_count": 354,
     "metadata": {},
     "output_type": "execute_result"
    },
    {
     "data": {
      "image/png": "[encoded data removed]",
      "text/plain": [
       "<matplotlib.figure.Figure at 0x1dd2c128>"
      ]
     },
     "metadata": {},
     "output_type": "display_data"
    }
   ],
   "source": [
    "# 调用绘图函数\n",
    "stackedbarplot(x_data = range(len(titanic_alivebysex.index))\n",
    "               , y_data_list = [titanic_alivebysex['no_prop'], titanic_alivebysex['yes_prop']]\n",
    "               , y_data_names = ['notalive', 'alive']\n",
    "               , colors = ['#539caf', '#7663b0','penu']\n",
    "               , x_label = 'sex'\n",
    "               , y_label = 'proportion of notalive/alive '\n",
    "               , title = 'notalive/alive by sex')\n",
    "plt.xticks(range(len(titanic_alivebysex.index)),titanic_alivebysex.index)\n",
    "\n",
    "# 结论： 女性乘客的幸存比例远远高于男性乘客"
   ]
  },
  {
   "cell_type": "code",
   "execution_count": 144,
   "metadata": {},
   "outputs": [
    {
     "name": "stdout",
     "output_type": "stream",
     "text": [
      "['no' 'yes']\n"
     ]
    },
    {
     "data": {
      "text/plain": [
       "([<matplotlib.axis.XTick at 0x151538d0>,\n",
       "  <matplotlib.axis.XTick at 0x153c49e8>],\n",
       " <a list of 2 Text xticklabel objects>)"
      ]
     },
     "execution_count": 144,
     "metadata": {},
     "output_type": "execute_result"
    },
    {
     "data": {
      "image/png": "[encoded data removed]",
      "text/plain": [
       "<matplotlib.figure.Figure at 0xffe1240>"
      ]
     },
     "metadata": {},
     "output_type": "display_data"
    }
   ],
   "source": [
    "# 幸存和遇难乘客的票价分布（分类箱式图）\n",
    "x_data=titanic['alive'].unique()\n",
    "x_data.sort()\n",
    "print(x_data)\n",
    "y_data=[]\n",
    "for x in x_data:\n",
    "    y_data.append(titanic.loc[titanic['alive']==x,'fare'])\n",
    "# print(222,len(y_data),y_data)\n",
    "ax=plt.subplot(111)\n",
    "ax.boxplot(y_data,\n",
    "           patch_artist=True,\n",
    "           medianprops = {'color': 'blue'},\n",
    "           boxprops = {'color': 'blue', 'facecolor': 'red'},  # 箱子颜色设置，color：边框颜色，facecolor：填充颜色\n",
    "           whiskerprops = {'color': 'red'},  # 猫须颜色whisker\n",
    "           capprops = {'color': 'blue'})    # 猫须界限颜色whisker cap\n",
    "\n",
    "ax.set_title(r'$ fare \\ vs \\ alive$')\n",
    "ax.set_xlabel(r'$alive$')\n",
    "ax.set_ylabel(r'$fare$')\n",
    "plt.xticks(range(1,len(x_data)+1), x_data)\n",
    "#结论  ：  幸存者中票价高的居多。"
   ]
  },
  {
   "cell_type": "code",
   "execution_count": 355,
   "metadata": {},
   "outputs": [
    {
     "name": "stdout",
     "output_type": "stream",
     "text": [
      "['no' 'yes']\n"
     ]
    },
    {
     "data": {
      "text/plain": [
       "([<matplotlib.axis.XTick at 0x1ce51470>,\n",
       "  <matplotlib.axis.XTick at 0x1d47f8d0>],\n",
       " <a list of 2 Text xticklabel objects>)"
      ]
     },
     "execution_count": 355,
     "metadata": {},
     "output_type": "execute_result"
    },
    {
     "data": {
      "image/png": "[encoded data removed]",
      "text/plain": [
       "<matplotlib.figure.Figure at 0x1ce72a90>"
      ]
     },
     "metadata": {},
     "output_type": "display_data"
    }
   ],
   "source": [
    "# 幸存和遇难乘客的年龄分布（分类箱式图）\n",
    "titanic['age']=titanic['age'].fillna(titanic['age'].mean())\n",
    "x_data=titanic['alive'].unique()\n",
    "x_data.sort()\n",
    "print(x_data)\n",
    "y_data=[]\n",
    "for x in x_data:\n",
    "    y_data.append(titanic.loc[titanic['alive']==x,'age'])\n",
    "# print(222,len(y_data),y_data)\n",
    "ax=plt.subplot(111)\n",
    "ax.boxplot(y_data,\n",
    "           patch_artist=True,\n",
    "           medianprops = {'color': 'blue'},\n",
    "           boxprops = {'color': 'blue', 'facecolor': 'red'},  # 箱子颜色设置，color：边框颜色，facecolor：填充颜色\n",
    "           whiskerprops = {'color': 'red'},  # 猫须颜色whisker\n",
    "           capprops = {'color': 'blue'})    # 猫须界限颜色whisker cap\n",
    "\n",
    "ax.set_title(r'$ age \\ vs \\ alive$')\n",
    "ax.set_xlabel(r'$alive$')\n",
    "ax.set_ylabel(r'$Age$')\n",
    "plt.xticks(range(1,len(x_data)+1), x_data)\n",
    "#结论  ：  幸存和遇难乘客的年龄分布相差不大。\n"
   ]
  },
  {
   "cell_type": "markdown",
   "metadata": {},
   "source": [
    "这个可以再看看\n",
    "- 年龄这种特征，是不是粒度太小分辨率会差？"
   ]
  },
  {
   "cell_type": "code",
   "execution_count": 356,
   "metadata": {},
   "outputs": [
    {
     "data": {
      "text/html": [
       "<div>\n",
       "<style>\n",
       "    .dataframe thead tr:only-child th {\n",
       "        text-align: right;\n",
       "    }\n",
       "\n",
       "    .dataframe thead th {\n",
       "        text-align: left;\n",
       "    }\n",
       "\n",
       "    .dataframe tbody tr th {\n",
       "        vertical-align: top;\n",
       "    }\n",
       "</style>\n",
       "<table border=\"1\" class=\"dataframe\">\n",
       "  <thead>\n",
       "    <tr style=\"text-align: right;\">\n",
       "      <th>class</th>\n",
       "      <th>First</th>\n",
       "      <th>Second</th>\n",
       "      <th>Third</th>\n",
       "    </tr>\n",
       "    <tr>\n",
       "      <th>embark_town</th>\n",
       "      <th></th>\n",
       "      <th></th>\n",
       "      <th></th>\n",
       "    </tr>\n",
       "  </thead>\n",
       "  <tbody>\n",
       "    <tr>\n",
       "      <th>Cherbourg</th>\n",
       "      <td>85</td>\n",
       "      <td>17</td>\n",
       "      <td>66</td>\n",
       "    </tr>\n",
       "    <tr>\n",
       "      <th>Queenstown</th>\n",
       "      <td>2</td>\n",
       "      <td>3</td>\n",
       "      <td>72</td>\n",
       "    </tr>\n",
       "    <tr>\n",
       "      <th>Southampton</th>\n",
       "      <td>127</td>\n",
       "      <td>164</td>\n",
       "      <td>353</td>\n",
       "    </tr>\n",
       "  </tbody>\n",
       "</table>\n",
       "</div>"
      ],
      "text/plain": [
       "class        First  Second  Third\n",
       "embark_town                      \n",
       "Cherbourg       85      17     66\n",
       "Queenstown       2       3     72\n",
       "Southampton    127     164    353"
      ]
     },
     "execution_count": 356,
     "metadata": {},
     "output_type": "execute_result"
    }
   ],
   "source": [
    "# 不同上船港口的乘客仓位等级分布（分组柱状图）\n",
    "titanic_=titanic.groupby('embark_town')['class'].value_counts()\n",
    "titanic_embarked=titanic_.unstack()\n",
    "titanic_embarked"
   ]
  },
  {
   "cell_type": "code",
   "execution_count": 281,
   "metadata": {},
   "outputs": [
    {
     "data": {
      "text/plain": [
       "Index(['First', 'Second', 'Third'], dtype='object', name='class')"
      ]
     },
     "execution_count": 281,
     "metadata": {},
     "output_type": "execute_result"
    }
   ],
   "source": [
    "titanic_embarked.columns"
   ]
  },
  {
   "cell_type": "code",
   "execution_count": 283,
   "metadata": {},
   "outputs": [
    {
     "data": {
      "image/png": "[encoded data removed]",
      "text/plain": [
       "<matplotlib.figure.Figure at 0x1c5baeb8>"
      ]
     },
     "metadata": {},
     "output_type": "display_data"
    }
   ],
   "source": [
    "# 不同上船港口的乘客仓位等级分布（分组柱状图）\n",
    "\n",
    "     #直接使用   绘制分组柱状图的函数\n",
    "def groupedbarplot(x_data, y_data_list, y_data_names, colors, x_label, y_label, title):\n",
    "    _, ax = plt.subplots()\n",
    "    # 设置每一组柱状图的宽度\n",
    "    total_width = 0.5\n",
    "    # 设置每一个柱状图的宽度\n",
    "    ind_width = total_width / len(y_data_list)\n",
    "    # 计算每一个柱状图的中心偏移\n",
    "    alteration = np.arange(-total_width/2+ind_width/2, total_width/2+ind_width/2, ind_width)\n",
    "\n",
    "    # 分别绘制每一个柱状图\n",
    "    for i in range(0, len(y_data_list)):\n",
    "        # 横向散开绘制\n",
    "        ax.bar(x_data +  alteration[i], y_data_list[i], color = colors[i], label = y_data_names[i], width = ind_width)\n",
    "    ax.set_ylabel(y_label)\n",
    "    ax.set_xlabel(x_label)\n",
    "#     ax.set_xticklabels(Tips_new.index)\n",
    "    ax.set_title(title)\n",
    "    ax.legend(loc = 'best')\n",
    "    plt.xticks([0,1,2],titanic_embarked.index)\n",
    "\n",
    "# 调用绘图函数\n",
    "groupedbarplot(x_data =range(len(titanic_embarked.index.values))\n",
    "               , y_data_list = [titanic_embarked['First'], titanic_embarked['Second'],titanic_embarked['Third']]\n",
    "               , y_data_names = ['Fisrt', 'Second','Third']\n",
    "               , colors = ['#539caf', '#7663b0','peru']\n",
    "               , x_label = 'embark_town '\n",
    "               , y_label = 'class level '\n",
    "               , title = 'class level vs embark_town ')\n",
    "\n",
    "#结论  ：   一等舱乘客主要来自于 Cherbourg和Southampton\n",
    "#           二等舱乘客 主要来自于Southampton\n",
    "#           三等舱乘客 主要来自于Southampton           \n",
    "#           从Queenstown上船的乘客 几乎都是选择的三等舱\n"
   ]
  },
  {
   "cell_type": "code",
   "execution_count": 154,
   "metadata": {},
   "outputs": [
    {
     "name": "stdout",
     "output_type": "stream",
     "text": [
      "['no' 'yes']\n"
     ]
    },
    {
     "data": {
      "text/plain": [
       "([<matplotlib.axis.XTick at 0x13542c88>,\n",
       "  <matplotlib.axis.XTick at 0x135bac88>],\n",
       " <a list of 2 Text xticklabel objects>)"
      ]
     },
     "execution_count": 154,
     "metadata": {},
     "output_type": "execute_result"
    },
    {
     "data": {
      "image/png": "[encoded data removed]",
      "text/plain": [
       "<matplotlib.figure.Figure at 0x12469e10>"
      ]
     },
     "metadata": {},
     "output_type": "display_data"
    }
   ],
   "source": [
    "# 幸存和遇难乘客堂兄弟姐妹的数量分布（分类箱式图）\n",
    "x_data=titanic['alive'].unique()\n",
    "x_data.sort()\n",
    "print(x_data)\n",
    "y_data=[]\n",
    "for x in x_data:\n",
    "    y_data.append(titanic.loc[titanic['alive']==x,'sibsp'])\n",
    "# print(222,len(y_data),y_data)\n",
    "ax=plt.subplot(111)\n",
    "ax.boxplot(y_data,\n",
    "           patch_artist=True,\n",
    "           medianprops = {'color': 'blue'},\n",
    "           boxprops = {'color': 'blue', 'facecolor': 'red'},  # 箱子颜色设置，color：边框颜色，facecolor：填充颜色\n",
    "           whiskerprops = {'color': 'red'},  # 猫须颜色whisker\n",
    "           capprops = {'color': 'blue'})    # 猫须界限颜色whisker cap\n",
    "\n",
    "ax.set_title(r'$ sibsp \\ vs \\ alive$')\n",
    "ax.set_xlabel(r'$alive$')\n",
    "ax.set_ylabel(r'$sibsp$')\n",
    "plt.xticks(range(1,len(x_data)+1), x_data)\n",
    "#结论  ：  幸存和遇难乘客的堂兄弟姐妹数量相差不大"
   ]
  },
  {
   "cell_type": "code",
   "execution_count": 366,
   "metadata": {},
   "outputs": [
    {
     "data": {
      "text/html": [
       "<div>\n",
       "<style>\n",
       "    .dataframe thead tr:only-child th {\n",
       "        text-align: right;\n",
       "    }\n",
       "\n",
       "    .dataframe thead th {\n",
       "        text-align: left;\n",
       "    }\n",
       "\n",
       "    .dataframe tbody tr th {\n",
       "        vertical-align: top;\n",
       "    }\n",
       "</style>\n",
       "<table border=\"1\" class=\"dataframe\">\n",
       "  <thead>\n",
       "    <tr style=\"text-align: right;\">\n",
       "      <th></th>\n",
       "      <th>survived</th>\n",
       "      <th>pclass</th>\n",
       "      <th>sex</th>\n",
       "      <th>age</th>\n",
       "      <th>sibsp</th>\n",
       "      <th>parch</th>\n",
       "      <th>fare</th>\n",
       "      <th>embarked</th>\n",
       "      <th>class</th>\n",
       "      <th>who</th>\n",
       "      <th>adult_male</th>\n",
       "      <th>deck</th>\n",
       "      <th>embark_town</th>\n",
       "      <th>alive</th>\n",
       "      <th>alone</th>\n",
       "    </tr>\n",
       "  </thead>\n",
       "  <tbody>\n",
       "    <tr>\n",
       "      <th>0</th>\n",
       "      <td>0</td>\n",
       "      <td>3</td>\n",
       "      <td>male</td>\n",
       "      <td>22.0</td>\n",
       "      <td>1</td>\n",
       "      <td>0</td>\n",
       "      <td>7.2500</td>\n",
       "      <td>S</td>\n",
       "      <td>Third</td>\n",
       "      <td>man</td>\n",
       "      <td>True</td>\n",
       "      <td>NaN</td>\n",
       "      <td>Southampton</td>\n",
       "      <td>no</td>\n",
       "      <td>False</td>\n",
       "    </tr>\n",
       "    <tr>\n",
       "      <th>1</th>\n",
       "      <td>1</td>\n",
       "      <td>1</td>\n",
       "      <td>female</td>\n",
       "      <td>38.0</td>\n",
       "      <td>1</td>\n",
       "      <td>0</td>\n",
       "      <td>71.2833</td>\n",
       "      <td>C</td>\n",
       "      <td>First</td>\n",
       "      <td>woman</td>\n",
       "      <td>False</td>\n",
       "      <td>C</td>\n",
       "      <td>Cherbourg</td>\n",
       "      <td>yes</td>\n",
       "      <td>False</td>\n",
       "    </tr>\n",
       "    <tr>\n",
       "      <th>2</th>\n",
       "      <td>1</td>\n",
       "      <td>3</td>\n",
       "      <td>female</td>\n",
       "      <td>26.0</td>\n",
       "      <td>0</td>\n",
       "      <td>0</td>\n",
       "      <td>7.9250</td>\n",
       "      <td>S</td>\n",
       "      <td>Third</td>\n",
       "      <td>woman</td>\n",
       "      <td>False</td>\n",
       "      <td>NaN</td>\n",
       "      <td>Southampton</td>\n",
       "      <td>yes</td>\n",
       "      <td>True</td>\n",
       "    </tr>\n",
       "    <tr>\n",
       "      <th>3</th>\n",
       "      <td>1</td>\n",
       "      <td>1</td>\n",
       "      <td>female</td>\n",
       "      <td>35.0</td>\n",
       "      <td>1</td>\n",
       "      <td>0</td>\n",
       "      <td>53.1000</td>\n",
       "      <td>S</td>\n",
       "      <td>First</td>\n",
       "      <td>woman</td>\n",
       "      <td>False</td>\n",
       "      <td>C</td>\n",
       "      <td>Southampton</td>\n",
       "      <td>yes</td>\n",
       "      <td>False</td>\n",
       "    </tr>\n",
       "    <tr>\n",
       "      <th>4</th>\n",
       "      <td>0</td>\n",
       "      <td>3</td>\n",
       "      <td>male</td>\n",
       "      <td>35.0</td>\n",
       "      <td>0</td>\n",
       "      <td>0</td>\n",
       "      <td>8.0500</td>\n",
       "      <td>S</td>\n",
       "      <td>Third</td>\n",
       "      <td>man</td>\n",
       "      <td>True</td>\n",
       "      <td>NaN</td>\n",
       "      <td>Southampton</td>\n",
       "      <td>no</td>\n",
       "      <td>True</td>\n",
       "    </tr>\n",
       "  </tbody>\n",
       "</table>\n",
       "</div>"
      ],
      "text/plain": [
       "   survived  pclass     sex   age  sibsp  parch     fare embarked  class  \\\n",
       "0         0       3    male  22.0      1      0   7.2500        S  Third   \n",
       "1         1       1  female  38.0      1      0  71.2833        C  First   \n",
       "2         1       3  female  26.0      0      0   7.9250        S  Third   \n",
       "3         1       1  female  35.0      1      0  53.1000        S  First   \n",
       "4         0       3    male  35.0      0      0   8.0500        S  Third   \n",
       "\n",
       "     who  adult_male deck  embark_town alive  alone  \n",
       "0    man        True  NaN  Southampton    no  False  \n",
       "1  woman       False    C    Cherbourg   yes  False  \n",
       "2  woman       False  NaN  Southampton   yes   True  \n",
       "3  woman       False    C  Southampton   yes  False  \n",
       "4    man        True  NaN  Southampton    no   True  "
      ]
     },
     "execution_count": 366,
     "metadata": {},
     "output_type": "execute_result"
    }
   ],
   "source": [
    "titanic.head()"
   ]
  },
  {
   "cell_type": "code",
   "execution_count": 368,
   "metadata": {},
   "outputs": [
    {
     "data": {
      "text/plain": [
       "[<matplotlib.text.Text at 0x1684db38>, <matplotlib.text.Text at 0x18747e48>]"
      ]
     },
     "execution_count": 368,
     "metadata": {},
     "output_type": "execute_result"
    },
    {
     "data": {
      "image/png": "[encoded data removed]",
      "text/plain": [
       "<matplotlib.figure.Figure at 0x1c1c1588>"
      ]
     },
     "metadata": {},
     "output_type": "display_data"
    }
   ],
   "source": [
    "# 幸存和遇难乘客父母子女的数量分布（分类箱式图）        # 不太明白题意\n",
    "x_data=titanic['alive'].unique()\n",
    "y1_data=[];y2_data=[]\n",
    "for x in x_data:\n",
    "    y1_data.append(titanic.loc[titanic['alive']==x,'sibsp'])\n",
    "    y2_data.append(titanic.loc[titanic['alive']==x,'parch'])\n",
    "\n",
    "ax1=plt.subplot(221)\n",
    "ax1.boxplot(y1_data,\n",
    "           patch_artist=True,\n",
    "           medianprops = {'color': 'blue'},\n",
    "           boxprops = {'color': 'blue', 'facecolor': 'red'},  # 箱子颜色设置，color：边框颜色，facecolor：填充颜色\n",
    "           whiskerprops = {'color': 'red'},  # 猫须颜色whisker\n",
    "           capprops = {'color': 'blue'})    # 猫须界限颜色whisker cap、\n",
    "ax1.set_title(r'$ sibsp \\ vs \\ alive$')\n",
    "ax1.set_xlabel(r'$alive$')\n",
    "ax1.set_ylabel(r'$sibsp$')\n",
    "ax1.set_xticklabels(x_data)\n",
    "\n",
    "ax2=plt.subplot(222)\n",
    "ax2.boxplot(y2_data,\n",
    "           patch_artist=True,\n",
    "           medianprops = {'color': 'blue'},\n",
    "           boxprops = {'color': 'blue', 'facecolor': 'red'},  # 箱子颜色设置，color：边框颜色，facecolor：填充颜色\n",
    "           whiskerprops = {'color': 'red'},  # 猫须颜色whisker\n",
    "           capprops = {'color': 'blue'})    # 猫须界限颜色whisker cap\n",
    "ax2.set_title(r'$ parch \\ vs \\ alive$')\n",
    "ax2.set_xlabel(r'$alive$')\n",
    "ax2.set_ylabel(r'$parch$')\n",
    "ax2.set_xticklabels(x_data)\n",
    "#结论  ： 幸存的乘客中，父母人数在0~1个左右，而遇难的乘客父母分布靠近0.\n",
    "        #幸存的乘客中和遇难的乘客的子女的分布情况差别不大。"
   ]
  },
  {
   "cell_type": "markdown",
   "metadata": {},
   "source": [
    "拖家带口更容易挂还是活？"
   ]
  },
  {
   "cell_type": "code",
   "execution_count": 364,
   "metadata": {},
   "outputs": [
    {
     "data": {
      "text/html": [
       "<div>\n",
       "<style>\n",
       "    .dataframe thead tr:only-child th {\n",
       "        text-align: right;\n",
       "    }\n",
       "\n",
       "    .dataframe thead th {\n",
       "        text-align: left;\n",
       "    }\n",
       "\n",
       "    .dataframe tbody tr th {\n",
       "        vertical-align: top;\n",
       "    }\n",
       "</style>\n",
       "<table border=\"1\" class=\"dataframe\">\n",
       "  <thead>\n",
       "    <tr style=\"text-align: right;\">\n",
       "      <th>alone</th>\n",
       "      <th>False</th>\n",
       "      <th>True</th>\n",
       "    </tr>\n",
       "    <tr>\n",
       "      <th>alive</th>\n",
       "      <th></th>\n",
       "      <th></th>\n",
       "    </tr>\n",
       "  </thead>\n",
       "  <tbody>\n",
       "    <tr>\n",
       "      <th>no</th>\n",
       "      <td>175</td>\n",
       "      <td>374</td>\n",
       "    </tr>\n",
       "    <tr>\n",
       "      <th>yes</th>\n",
       "      <td>179</td>\n",
       "      <td>163</td>\n",
       "    </tr>\n",
       "  </tbody>\n",
       "</table>\n",
       "</div>"
      ],
      "text/plain": [
       "alone  False  True \n",
       "alive              \n",
       "no       175    374\n",
       "yes      179    163"
      ]
     },
     "execution_count": 364,
     "metadata": {},
     "output_type": "execute_result"
    }
   ],
   "source": [
    "# 单独乘船与否和幸存之间有没有联系（堆积柱状图或者分组柱状图）\n",
    "titanic_=titanic.groupby('alive')['alone'].value_counts()\n",
    "titanic_alone=titanic_.unstack()\n",
    "titanic_alone"
   ]
  },
  {
   "cell_type": "code",
   "execution_count": 365,
   "metadata": {},
   "outputs": [
    {
     "data": {
      "image/png": "[encoded data removed]",
      "text/plain": [
       "<matplotlib.figure.Figure at 0x18472dd8>"
      ]
     },
     "metadata": {},
     "output_type": "display_data"
    }
   ],
   "source": [
    "     #直接使用   绘制分组柱状图的函数\n",
    "def groupedbarplot(x_data, y_data_list, y_data_names, colors, x_label, y_label, title):\n",
    "    _, ax = plt.subplots()\n",
    "    # 设置每一组柱状图的宽度\n",
    "    total_width = 0.5\n",
    "    # 设置每一个柱状图的宽度\n",
    "    ind_width = total_width / len(y_data_list)\n",
    "    # 计算每一个柱状图的中心偏移\n",
    "    alteration = np.arange(-total_width/2+ind_width/2, total_width/2+ind_width/2, ind_width)\n",
    "\n",
    "    # 分别绘制每一个柱状图\n",
    "    for i in range(0, len(y_data_list)):\n",
    "        # 横向散开绘制\n",
    "        ax.bar(x_data + alteration[i], y_data_list[i], color = colors[i], label = y_data_names[i], width = ind_width)\n",
    "    ax.set_ylabel(y_label)\n",
    "    ax.set_xlabel(x_label)\n",
    "#     ax.set_xticklabels(Tips_new.index)\n",
    "    ax.set_title(title)\n",
    "    ax.legend(loc = 'best')\n",
    "    plt.xticks([0,1],titanic_alone.index)\n",
    "\n",
    "# 调用绘图函数\n",
    "groupedbarplot(x_data =range(len(titanic_alone.index.values))\n",
    "               , y_data_list = [titanic_alone[0], titanic_alone[1]]   ###\n",
    "              ###y_data_list = [titanic_alone[‘False’], titanic_alone[‘True’]]    ##此处不可使用‘False’和‘True’  来进行选择\n",
    "               , y_data_names = ['notalone', 'alone']\n",
    "               , colors = ['#539caf', '#7663b0']\n",
    "               , x_label = 'alive '\n",
    "               , y_label = 'alone '\n",
    "               , title = 'alone vs alive ')\n",
    "\n",
    "#结论  ：   单独乘船，生存的机会只有约1/3 ,非单独乘船生存的机会会达到1/2"
   ]
  },
  {
   "cell_type": "code",
   "execution_count": null,
   "metadata": {
    "collapsed": true
   },
   "outputs": [],
   "source": []
  }
 ],
 "metadata": {
  "kernelspec": {
   "display_name": "Python 2",
   "language": "python",
   "name": "python2"
  },
  "language_info": {
   "codemirror_mode": {
    "name": "ipython",
    "version": 2
   },
   "file_extension": ".py",
   "mimetype": "text/x-python",
   "name": "python",
   "nbconvert_exporter": "python",
   "pygments_lexer": "ipython2",
   "version": "2.7.14"
  }
 },
 "nbformat": 4,
 "nbformat_minor": 2
}
