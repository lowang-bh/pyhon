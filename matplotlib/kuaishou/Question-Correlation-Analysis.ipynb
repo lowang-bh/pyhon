{
 "cells": [
  {
   "cell_type": "code",
   "execution_count": 1,
   "metadata": {},
   "outputs": [],
   "source": [
    "%matplotlib inline\n",
    "import pandas as pd\n",
    "import pylab, math\n",
    "from sklearn.linear_model import LogisticRegression\n",
    "from sklearn import metrics\n",
    "import matplotlib.font_manager as fm\n",
    "zhfont = fm.FontProperties(fname='msyh.ttf')\n",
    "import re\n",
    "import collections\n",
    "import matplotlib.pyplot as plt\n",
    "import seaborn as sns"
   ]
  },
  {
   "cell_type": "markdown",
   "metadata": {},
   "source": [
    "# 选项\n",
    "这是一个python的notebook，也可以根据自己的喜好选择R的。File->New Notebook中有选项"
   ]
  },
  {
   "cell_type": "code",
   "execution_count": 2,
   "metadata": {},
   "outputs": [],
   "source": [
    "delay = pd.read_csv('video_process_delay.csv')\n",
    "retain = pd.read_csv('user_retention.csv')"
   ]
  },
  {
   "cell_type": "markdown",
   "metadata": {},
   "source": [
    "# A 基础分析\n",
    "* 查看数据的前8行\n",
    "* 查看数据的相关信息（列名、维度、缺失、统计信息）\n",
    "* 平均每个用户看多少个video\n",
    "* 每个用户看video个数的分布(画图)\n",
    "* 用户看视频的个数和留存的关系（统计和画图）"
   ]
  },
  {
   "cell_type": "code",
   "execution_count": 3,
   "metadata": {},
   "outputs": [
    {
     "name": "stdout",
     "output_type": "stream",
     "text": [
      "   user  video  delay\n",
      "0     3      0   2275\n",
      "1     3      1    839\n",
      "2     5      2    119\n",
      "3     6      3     70\n",
      "4     9      4     66\n",
      "5    10      5    198\n",
      "6    11      6    348\n",
      "7    12      7     93\n",
      "   user  retain\n",
      "0     0       1\n",
      "1     1       1\n",
      "2     2       0\n",
      "3     3       1\n",
      "4     4       1\n",
      "5     5       0\n",
      "6     6       0\n",
      "7     7       1\n"
     ]
    }
   ],
   "source": [
    "# 查看数据的前8行\n",
    "print delay.head(8)\n",
    "print retain.head(8)"
   ]
  },
  {
   "cell_type": "code",
   "execution_count": 4,
   "metadata": {},
   "outputs": [
    {
     "name": "stdout",
     "output_type": "stream",
     "text": [
      "<class 'pandas.core.frame.DataFrame'>\n",
      "RangeIndex: 282801 entries, 0 to 282800\n",
      "Data columns (total 3 columns):\n",
      "user     282801 non-null int64\n",
      "video    282801 non-null int64\n",
      "delay    282801 non-null int64\n",
      "dtypes: int64(3)\n",
      "memory usage: 6.5 MB\n",
      "None\n",
      "                user          video          delay\n",
      "count  282801.000000  282801.000000  282801.000000\n",
      "mean    88253.622151  141400.000000     505.997468\n",
      "std     49080.766603   81637.761076    4272.765087\n",
      "min         0.000000       0.000000       3.000000\n",
      "25%     46107.000000   70700.000000      79.000000\n",
      "50%     89574.000000  141400.000000     236.000000\n",
      "75%    131667.000000  212100.000000     629.000000\n",
      "max    168935.000000  282800.000000  857526.000000\n"
     ]
    }
   ],
   "source": [
    "# 查看数据的相关信息（列名、维度、缺失、统计信息）\n",
    "print delay.info()\n",
    "print delay.describe()"
   ]
  },
  {
   "cell_type": "code",
   "execution_count": 5,
   "metadata": {},
   "outputs": [
    {
     "name": "stdout",
     "output_type": "stream",
     "text": [
      "<class 'pandas.core.frame.DataFrame'>\n",
      "RangeIndex: 168936 entries, 0 to 168935\n",
      "Data columns (total 2 columns):\n",
      "user      168936 non-null int64\n",
      "retain    168936 non-null int64\n",
      "dtypes: int64(2)\n",
      "memory usage: 2.6 MB\n",
      "None\n"
     ]
    },
    {
     "data": {
      "text/html": [
       "<div>\n",
       "<style scoped>\n",
       "    .dataframe tbody tr th:only-of-type {\n",
       "        vertical-align: middle;\n",
       "    }\n",
       "\n",
       "    .dataframe tbody tr th {\n",
       "        vertical-align: top;\n",
       "    }\n",
       "\n",
       "    .dataframe thead th {\n",
       "        text-align: right;\n",
       "    }\n",
       "</style>\n",
       "<table border=\"1\" class=\"dataframe\">\n",
       "  <thead>\n",
       "    <tr style=\"text-align: right;\">\n",
       "      <th></th>\n",
       "      <th>user</th>\n",
       "      <th>retain</th>\n",
       "    </tr>\n",
       "  </thead>\n",
       "  <tbody>\n",
       "    <tr>\n",
       "      <th>count</th>\n",
       "      <td>168936.000000</td>\n",
       "      <td>168936.000000</td>\n",
       "    </tr>\n",
       "    <tr>\n",
       "      <th>mean</th>\n",
       "      <td>84467.500000</td>\n",
       "      <td>0.386910</td>\n",
       "    </tr>\n",
       "    <tr>\n",
       "      <th>std</th>\n",
       "      <td>48767.766875</td>\n",
       "      <td>0.487044</td>\n",
       "    </tr>\n",
       "    <tr>\n",
       "      <th>min</th>\n",
       "      <td>0.000000</td>\n",
       "      <td>0.000000</td>\n",
       "    </tr>\n",
       "    <tr>\n",
       "      <th>25%</th>\n",
       "      <td>42233.750000</td>\n",
       "      <td>0.000000</td>\n",
       "    </tr>\n",
       "    <tr>\n",
       "      <th>50%</th>\n",
       "      <td>84467.500000</td>\n",
       "      <td>0.000000</td>\n",
       "    </tr>\n",
       "    <tr>\n",
       "      <th>75%</th>\n",
       "      <td>126701.250000</td>\n",
       "      <td>1.000000</td>\n",
       "    </tr>\n",
       "    <tr>\n",
       "      <th>max</th>\n",
       "      <td>168935.000000</td>\n",
       "      <td>1.000000</td>\n",
       "    </tr>\n",
       "  </tbody>\n",
       "</table>\n",
       "</div>"
      ],
      "text/plain": [
       "                user         retain\n",
       "count  168936.000000  168936.000000\n",
       "mean    84467.500000       0.386910\n",
       "std     48767.766875       0.487044\n",
       "min         0.000000       0.000000\n",
       "25%     42233.750000       0.000000\n",
       "50%     84467.500000       0.000000\n",
       "75%    126701.250000       1.000000\n",
       "max    168935.000000       1.000000"
      ]
     },
     "execution_count": 5,
     "metadata": {},
     "output_type": "execute_result"
    }
   ],
   "source": [
    "print retain.info()\n",
    "retain.describe()"
   ]
  },
  {
   "cell_type": "code",
   "execution_count": 6,
   "metadata": {},
   "outputs": [
    {
     "name": "stdout",
     "output_type": "stream",
     "text": [
      "(282801, 168936, 282801)\n"
     ]
    },
    {
     "data": {
      "text/plain": [
       "(1, 1.6740126438414547)"
      ]
     },
     "execution_count": 6,
     "metadata": {},
     "output_type": "execute_result"
    }
   ],
   "source": [
    "# 平均每个用户看多少个video\n",
    "videoes = delay['video'].size\n",
    "size =delay['video'].size\n",
    "users = len(delay['user'].unique())\n",
    "print(size, users, videoes)\n",
    "videoes, users\n",
    "videoes//users, size/float(users)"
   ]
  },
  {
   "cell_type": "code",
   "execution_count": null,
   "metadata": {},
   "outputs": [],
   "source": [
    "# 每个用户看video个数的分布(画图)\n",
    "usergroup = delay.groupby(\"user\")\n",
    "usergroup['video'].plot()"
   ]
  },
  {
   "cell_type": "code",
   "execution_count": null,
   "metadata": {},
   "outputs": [],
   "source": [
    "# 每个用户的平均延迟分布（画图）\n",
    "print usergroup['delay'].max().max()\n",
    "usergroup['delay'].mean().plot()"
   ]
  },
  {
   "cell_type": "code",
   "execution_count": null,
   "metadata": {},
   "outputs": [],
   "source": [
    "# 用户看视频的个数和留存的关系（统计和画图）\n"
   ]
  },
  {
   "cell_type": "markdown",
   "metadata": {},
   "source": [
    "# B. 基础分析，回答如下问题\n",
    "* 平均留存率是多少\n",
    "* 系统处理延迟(delay)的分布图。\n",
    "* 对延迟按等频做100分桶，每个桶内有多少用户，同时作图表示一下分布\n",
    "* 延迟的平均值，P50，P90，P95，P99分别是多少，是否可以用图表达\n",
    "* 对延迟按照每100分桶，每个桶的作者留存率是多少？画图\n",
    "\n",
    "(网上搜索“pandas 回归”等关键词可以找到很多教程，例如 http://lib.csdn.net/article/machinelearning/35051)"
   ]
  },
  {
   "cell_type": "code",
   "execution_count": null,
   "metadata": {},
   "outputs": [],
   "source": [
    "# 平均留存率\n"
   ]
  },
  {
   "cell_type": "code",
   "execution_count": null,
   "metadata": {},
   "outputs": [],
   "source": [
    "# 系统处理延迟（delay）的分布图\n"
   ]
  },
  {
   "cell_type": "code",
   "execution_count": null,
   "metadata": {},
   "outputs": [],
   "source": [
    "# 对延迟按等频做100分桶，每个桶内有多少用户，同时作图表示一下分布\n"
   ]
  },
  {
   "cell_type": "code",
   "execution_count": null,
   "metadata": {},
   "outputs": [],
   "source": [
    "# 延迟的平均值，P50，P90，P95，P99分别是多少，是否可以用图表达\n"
   ]
  },
  {
   "cell_type": "code",
   "execution_count": null,
   "metadata": {},
   "outputs": [],
   "source": [
    "# 对延迟按照每100分桶，每个桶的作者留存率是多少？画图\n"
   ]
  },
  {
   "cell_type": "markdown",
   "metadata": {},
   "source": [
    "# C. 相关性分析\n",
    "(提示，两张表的链接可以使用pandas的merge函数。在这个notebook里就是pd.merge。细节可以google)\n",
    "1. 平均延迟每降低100，留存会提升或者降低多少？\n",
    "2. 如果降低平均延迟，会改变留存吗？"
   ]
  },
  {
   "cell_type": "code",
   "execution_count": null,
   "metadata": {},
   "outputs": [],
   "source": [
    "# 平均延迟每降低100，留存会提升或者降低多少？\n"
   ]
  },
  {
   "cell_type": "code",
   "execution_count": null,
   "metadata": {},
   "outputs": [],
   "source": [
    "# 如果降低平均延迟，会改变留存吗？\n"
   ]
  },
  {
   "cell_type": "markdown",
   "metadata": {},
   "source": [
    "# D.拓展分析\n",
    "请问从上述数据，你还可以分析出什么有用的信息吗？请自由发挥"
   ]
  },
  {
   "cell_type": "code",
   "execution_count": null,
   "metadata": {},
   "outputs": [],
   "source": [
    "# 其他分析\n"
   ]
  }
 ],
 "metadata": {
  "kernelspec": {
   "display_name": "Python 2",
   "language": "python",
   "name": "python2"
  },
  "language_info": {
   "codemirror_mode": {
    "name": "ipython",
    "version": 2
   },
   "file_extension": ".py",
   "mimetype": "text/x-python",
   "name": "python",
   "nbconvert_exporter": "python",
   "pygments_lexer": "ipython2",
   "version": "2.7.14"
  }
 },
 "nbformat": 4,
 "nbformat_minor": 2
}
