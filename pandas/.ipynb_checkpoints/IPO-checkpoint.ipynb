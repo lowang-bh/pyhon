{
 "cells": [
  {
   "cell_type": "markdown",
   "metadata": {},
   "source": [
    "## IPO数据分析"
   ]
  },
  {
   "cell_type": "markdown",
   "metadata": {},
   "source": [
    "#### 数据列说明\n",
    "- Date 日期\n",
    "- Issuer 发行者\n",
    "- Symbol 股票代码\n",
    "- Manager 承销商\n",
    "- OfferPrice 发行价\n",
    "- OpeningPrice 开盘价\n",
    "- DayClose 首日收盘价\n",
    "- ChangeDay 首日收盘价格较发行价变化率\n",
    "- ChangeOpening 首日开盘价较发行价变化（绝对金额）\n",
    "- ChangeClose 首日收盘价较发行价变化（绝对金额）\n",
    "- StarRatings 评级"
   ]
  },
  {
   "cell_type": "code",
   "execution_count": null,
   "metadata": {},
   "outputs": [],
   "source": [
    "#### 导入库及数据（文件名ipo.csv）\n",
    "import pandas as pd\n",
    "import matplotlib.pyplot as plt\n",
    "%matplotlib inline\n",
    "import pandas as pd\n",
    "ipos=pd.read_csv('./ipo.csv',encoding='latin-1')\n",
    "ipos.head()"
   ]
  },
  {
   "cell_type": "code",
   "execution_count": null,
   "metadata": {},
   "outputs": [],
   "source": [
    "#数据清洗1"
   ]
  },
  {
   "cell_type": "code",
   "execution_count": null,
   "metadata": {},
   "outputs": [],
   "source": [
    "#数据清洗2"
   ]
  },
  {
   "cell_type": "code",
   "execution_count": null,
   "metadata": {},
   "outputs": [],
   "source": [
    "#按年比较首日收盘价格较发行价变化率的中位数"
   ]
  },
  {
   "cell_type": "code",
   "execution_count": null,
   "metadata": {},
   "outputs": [],
   "source": [
    "#数值观察首日收盘价格较发行价变化率的大体情况"
   ]
  },
  {
   "cell_type": "code",
   "execution_count": null,
   "metadata": {
    "scrolled": true
   },
   "outputs": [],
   "source": [
    "#画出首日收盘价格较发行价变化率的分布\n",
    "\n",
    "#请描述这个分布"
   ]
  },
  {
   "cell_type": "code",
   "execution_count": null,
   "metadata": {},
   "outputs": [],
   "source": [
    "#想知道，如果对新股以开盘价买入，收盘价卖出这样策略的收益 情况？"
   ]
  },
  {
   "cell_type": "code",
   "execution_count": null,
   "metadata": {},
   "outputs": [],
   "source": [
    "#再想想，如果是以IPO发价购买，首日开盘价卖出这样策略呢？"
   ]
  },
  {
   "cell_type": "code",
   "execution_count": null,
   "metadata": {},
   "outputs": [],
   "source": [
    "#想知道在2009年以后，我们按开盘买入，收盘卖出的策略去执行的情况"
   ]
  }
 ],
 "metadata": {
  "kernelspec": {
   "display_name": "Python 2",
   "language": "python",
   "name": "python2"
  },
  "language_info": {
   "codemirror_mode": {
    "name": "ipython",
    "version": 2
   },
   "file_extension": ".py",
   "mimetype": "text/x-python",
   "name": "python",
   "nbconvert_exporter": "python",
   "pygments_lexer": "ipython2",
   "version": "2.7.14"
  }
 },
 "nbformat": 4,
 "nbformat_minor": 2
}
