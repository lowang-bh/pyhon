{
 "cells": [
  {
   "cell_type": "markdown",
   "metadata": {},
   "source": [
    "## 链家数据分析\n",
    "我们根据爬取的链家网数据，做简单的数据分析。"
   ]
  },
  {
   "cell_type": "markdown",
   "metadata": {},
   "source": [
    "### 0.载入数据"
   ]
  },
  {
   "cell_type": "code",
   "execution_count": 3,
   "metadata": {},
   "outputs": [
    {
     "name": "stdout",
     "output_type": "stream",
     "text": [
      "<class 'pandas.core.frame.DataFrame'>\n",
      "RangeIndex: 2760 entries, 0 to 2759\n",
      "Data columns (total 13 columns):\n",
      "区域      2760 non-null object\n",
      "地址      2760 non-null object\n",
      "标题      2760 non-null object\n",
      "户型      2760 non-null object\n",
      "面积      2760 non-null object\n",
      "价格      2760 non-null int64\n",
      "楼层      2760 non-null object\n",
      "建造时间    2758 non-null object\n",
      "朝向      2760 non-null object\n",
      "更新时间    2760 non-null object\n",
      "看房人数    2760 non-null int64\n",
      "备注      2760 non-null object\n",
      "链接地址    2760 non-null object\n",
      "dtypes: int64(2), object(11)\n",
      "memory usage: 280.4+ KB\n"
     ]
    }
   ],
   "source": [
    "import pandas as pd\n",
    "lj_data = pd.read_csv('./LJdata.csv')\n",
    "lj_data.info()"
   ]
  },
  {
   "cell_type": "markdown",
   "metadata": {},
   "source": [
    "大家规范一点，用英文的column name，这样免去了后续的一些问题(主要是编码问题)"
   ]
  },
  {
   "cell_type": "code",
   "execution_count": 4,
   "metadata": {},
   "outputs": [
    {
     "data": {
      "text/html": [
       "<div>\n",
       "<style scoped>\n",
       "    .dataframe tbody tr th:only-of-type {\n",
       "        vertical-align: middle;\n",
       "    }\n",
       "\n",
       "    .dataframe tbody tr th {\n",
       "        vertical-align: top;\n",
       "    }\n",
       "\n",
       "    .dataframe thead th {\n",
       "        text-align: right;\n",
       "    }\n",
       "</style>\n",
       "<table border=\"1\" class=\"dataframe\">\n",
       "  <thead>\n",
       "    <tr style=\"text-align: right;\">\n",
       "      <th></th>\n",
       "      <th>区域</th>\n",
       "      <th>地址</th>\n",
       "      <th>标题</th>\n",
       "      <th>户型</th>\n",
       "      <th>面积</th>\n",
       "      <th>价格</th>\n",
       "      <th>楼层</th>\n",
       "      <th>建造时间</th>\n",
       "      <th>朝向</th>\n",
       "      <th>更新时间</th>\n",
       "      <th>看房人数</th>\n",
       "      <th>备注</th>\n",
       "      <th>链接地址</th>\n",
       "    </tr>\n",
       "  </thead>\n",
       "  <tbody>\n",
       "    <tr>\n",
       "      <th>0</th>\n",
       "      <td>燕莎租房</td>\n",
       "      <td>新源街</td>\n",
       "      <td>亮马桥 新源街  精装两居 交通便利 看房方便 随时入住</td>\n",
       "      <td>2室1厅</td>\n",
       "      <td>50平米</td>\n",
       "      <td>5800</td>\n",
       "      <td>中楼层(共6层)</td>\n",
       "      <td>1981年建板楼</td>\n",
       "      <td>南</td>\n",
       "      <td>2017.07.21</td>\n",
       "      <td>26</td>\n",
       "      <td>随时看房 精装修 集中供暖</td>\n",
       "      <td>https://bj.lianjia.com/zufang/101101803342.html</td>\n",
       "    </tr>\n",
       "    <tr>\n",
       "      <th>1</th>\n",
       "      <td>望京租房</td>\n",
       "      <td>澳洲康都</td>\n",
       "      <td>澳洲康都东向精致两居室...........</td>\n",
       "      <td>2室1厅</td>\n",
       "      <td>79平米</td>\n",
       "      <td>7800</td>\n",
       "      <td>中楼层(共28层)</td>\n",
       "      <td>2005年建板塔结合</td>\n",
       "      <td>东</td>\n",
       "      <td>2017.07.23</td>\n",
       "      <td>33</td>\n",
       "      <td>距离14号线(东段)东湖渠站731米 随时看房 精装修 集中供暖</td>\n",
       "      <td>https://bj.lianjia.com/zufang/101101753126.html</td>\n",
       "    </tr>\n",
       "    <tr>\n",
       "      <th>2</th>\n",
       "      <td>广安门租房</td>\n",
       "      <td>远见名苑</td>\n",
       "      <td>远见名苑 东向两居室 独立小区环境 适合居家</td>\n",
       "      <td>2室1厅</td>\n",
       "      <td>86平米</td>\n",
       "      <td>8000</td>\n",
       "      <td>低楼层(共25层)</td>\n",
       "      <td>2006年建塔楼</td>\n",
       "      <td>东</td>\n",
       "      <td>2017.07.20</td>\n",
       "      <td>34</td>\n",
       "      <td>距离7号线达官营站684米 随时看房 精装修 自供暖</td>\n",
       "      <td>https://bj.lianjia.com/zufang/101101756753.html</td>\n",
       "    </tr>\n",
       "    <tr>\n",
       "      <th>3</th>\n",
       "      <td>天通苑租房</td>\n",
       "      <td>天通苑北一区</td>\n",
       "      <td>北一区简装两居，采光好，视野美，出行方便</td>\n",
       "      <td>2室1厅</td>\n",
       "      <td>103平米</td>\n",
       "      <td>5300</td>\n",
       "      <td>低楼层(共13层)</td>\n",
       "      <td>2004年建板楼</td>\n",
       "      <td>东南</td>\n",
       "      <td>2017.07.25</td>\n",
       "      <td>30</td>\n",
       "      <td>距离5号线天通苑站927米 随时看房 精装修 集中供暖</td>\n",
       "      <td>https://bj.lianjia.com/zufang/101101780034.html</td>\n",
       "    </tr>\n",
       "    <tr>\n",
       "      <th>4</th>\n",
       "      <td>团结湖租房</td>\n",
       "      <td>团结湖北口</td>\n",
       "      <td>团结湖北口近地铁高楼层朝南向精装修正规两居室</td>\n",
       "      <td>2室1厅</td>\n",
       "      <td>63平米</td>\n",
       "      <td>6400</td>\n",
       "      <td>高楼层(共16层)</td>\n",
       "      <td>1982年建塔楼</td>\n",
       "      <td>南</td>\n",
       "      <td>2017.07.26</td>\n",
       "      <td>30</td>\n",
       "      <td>距离10号线团结湖站88米 随时看房 精装修 集中供暖</td>\n",
       "      <td>https://bj.lianjia.com/zufang/101101781083.html</td>\n",
       "    </tr>\n",
       "  </tbody>\n",
       "</table>\n",
       "</div>"
      ],
      "text/plain": [
       "      区域      地址                            标题    户型     面积    价格         楼层  \\\n",
       "0   燕莎租房     新源街  亮马桥 新源街  精装两居 交通便利 看房方便 随时入住  2室1厅   50平米  5800   中楼层(共6层)   \n",
       "1   望京租房    澳洲康都        澳洲康都东向精致两居室...........  2室1厅   79平米  7800  中楼层(共28层)   \n",
       "2  广安门租房    远见名苑        远见名苑 东向两居室 独立小区环境 适合居家  2室1厅   86平米  8000  低楼层(共25层)   \n",
       "3  天通苑租房  天通苑北一区          北一区简装两居，采光好，视野美，出行方便  2室1厅  103平米  5300  低楼层(共13层)   \n",
       "4  团结湖租房   团结湖北口        团结湖北口近地铁高楼层朝南向精装修正规两居室  2室1厅   63平米  6400  高楼层(共16层)   \n",
       "\n",
       "         建造时间  朝向        更新时间  看房人数                                 备注  \\\n",
       "0    1981年建板楼   南  2017.07.21    26                      随时看房 精装修 集中供暖   \n",
       "1  2005年建板塔结合   东  2017.07.23    33   距离14号线(东段)东湖渠站731米 随时看房 精装修 集中供暖   \n",
       "2    2006年建塔楼   东  2017.07.20    34         距离7号线达官营站684米 随时看房 精装修 自供暖   \n",
       "3    2004年建板楼  东南  2017.07.25    30        距离5号线天通苑站927米 随时看房 精装修 集中供暖   \n",
       "4    1982年建塔楼   南  2017.07.26    30        距离10号线团结湖站88米 随时看房 精装修 集中供暖   \n",
       "\n",
       "                                              链接地址  \n",
       "0  https://bj.lianjia.com/zufang/101101803342.html  \n",
       "1  https://bj.lianjia.com/zufang/101101753126.html  \n",
       "2  https://bj.lianjia.com/zufang/101101756753.html  \n",
       "3  https://bj.lianjia.com/zufang/101101780034.html  \n",
       "4  https://bj.lianjia.com/zufang/101101781083.html  "
      ]
     },
     "execution_count": 4,
     "metadata": {},
     "output_type": "execute_result"
    }
   ],
   "source": [
    "lj_data.head()"
   ]
  },
  {
   "cell_type": "code",
   "execution_count": 5,
   "metadata": {},
   "outputs": [
    {
     "data": {
      "text/plain": [
       "Index([u'区域', u'地址', u'标题', u'户型', u'面积', u'价格', u'楼层', u'建造时间', u'朝向',\n",
       "       u'更新时间', u'看房人数', u'备注', u'链接地址'],\n",
       "      dtype='object')"
      ]
     },
     "execution_count": 5,
     "metadata": {},
     "output_type": "execute_result"
    }
   ],
   "source": [
    "lj_data.columns"
   ]
  },
  {
   "cell_type": "code",
   "execution_count": 3,
   "metadata": {},
   "outputs": [],
   "source": [
    "lj_data.columns = ['district', 'address', 'title', 'house_type', 'area', 'price', 'floor', 'build_time', 'direction', 'update_time', 'view_num', 'extra_info', 'link']"
   ]
  },
  {
   "cell_type": "markdown",
   "metadata": {},
   "source": [
    "Perfect, 然后咱们就可以开始做点分析了"
   ]
  },
  {
   "cell_type": "markdown",
   "metadata": {},
   "source": [
    "### 查看数据的形状和信息\n",
    "hint:都还记得info/describe/shape的用法吧，用起来！"
   ]
  },
  {
   "cell_type": "code",
   "execution_count": 1,
   "metadata": {},
   "outputs": [
    {
     "ename": "NameError",
     "evalue": "name 'lj_data' is not defined",
     "output_type": "error",
     "traceback": [
      "\u001b[0;31m---------------------------------------------------------------------------\u001b[0m",
      "\u001b[0;31mNameError\u001b[0m                                 Traceback (most recent call last)",
      "\u001b[0;32m<ipython-input-1-d41a9f7f6f29>\u001b[0m in \u001b[0;36m<module>\u001b[0;34m()\u001b[0m\n\u001b[0;32m----> 1\u001b[0;31m \u001b[0mlj_data\u001b[0m\u001b[0;34m.\u001b[0m\u001b[0mdescribe\u001b[0m\u001b[0;34m(\u001b[0m\u001b[0;34m)\u001b[0m\u001b[0;34m\u001b[0m\u001b[0m\n\u001b[0m",
      "\u001b[0;31mNameError\u001b[0m: name 'lj_data' is not defined"
     ]
    }
   ],
   "source": [
    "lj_data.describe()"
   ]
  },
  {
   "cell_type": "code",
   "execution_count": null,
   "metadata": {},
   "outputs": [],
   "source": []
  },
  {
   "cell_type": "markdown",
   "metadata": {},
   "source": [
    "### 找到最近更新信息的20套房子"
   ]
  },
  {
   "cell_type": "code",
   "execution_count": null,
   "metadata": {},
   "outputs": [],
   "source": []
  },
  {
   "cell_type": "markdown",
   "metadata": {},
   "source": [
    "### 平均看房人数"
   ]
  },
  {
   "cell_type": "code",
   "execution_count": null,
   "metadata": {},
   "outputs": [],
   "source": []
  },
  {
   "cell_type": "markdown",
   "metadata": {},
   "source": [
    "### 房龄最小的20套房子的平均看房人数、平均面积..."
   ]
  },
  {
   "cell_type": "code",
   "execution_count": null,
   "metadata": {},
   "outputs": [],
   "source": []
  },
  {
   "cell_type": "code",
   "execution_count": null,
   "metadata": {},
   "outputs": [],
   "source": []
  },
  {
   "cell_type": "markdown",
   "metadata": {},
   "source": [
    "### 房子价格的分布(平均，方差，中位数)"
   ]
  },
  {
   "cell_type": "code",
   "execution_count": null,
   "metadata": {},
   "outputs": [],
   "source": []
  },
  {
   "cell_type": "markdown",
   "metadata": {},
   "source": [
    "### 最受欢迎的朝向(平均看房人数)"
   ]
  },
  {
   "cell_type": "code",
   "execution_count": null,
   "metadata": {
    "scrolled": true
   },
   "outputs": [],
   "source": []
  },
  {
   "cell_type": "markdown",
   "metadata": {},
   "source": [
    "### 房型数量分布"
   ]
  },
  {
   "cell_type": "code",
   "execution_count": null,
   "metadata": {},
   "outputs": [],
   "source": []
  },
  {
   "cell_type": "markdown",
   "metadata": {},
   "source": [
    "### 最受欢迎的房型"
   ]
  },
  {
   "cell_type": "code",
   "execution_count": null,
   "metadata": {},
   "outputs": [],
   "source": []
  },
  {
   "cell_type": "markdown",
   "metadata": {},
   "source": [
    "### 房子的平均租房价格(按平米算)"
   ]
  },
  {
   "cell_type": "code",
   "execution_count": null,
   "metadata": {},
   "outputs": [],
   "source": []
  },
  {
   "cell_type": "markdown",
   "metadata": {},
   "source": [
    "### 最受关注的小区"
   ]
  },
  {
   "cell_type": "code",
   "execution_count": null,
   "metadata": {},
   "outputs": [],
   "source": []
  },
  {
   "cell_type": "markdown",
   "metadata": {},
   "source": [
    "### 出租房源最多的小区"
   ]
  },
  {
   "cell_type": "code",
   "execution_count": null,
   "metadata": {},
   "outputs": [],
   "source": []
  },
  {
   "cell_type": "markdown",
   "metadata": {},
   "source": [
    "### 出租房源最多的地区(大家从详情页可以对标到 海淀/西城/东城/朝阳 不同城区...)"
   ]
  },
  {
   "cell_type": "code",
   "execution_count": null,
   "metadata": {
    "scrolled": true
   },
   "outputs": [],
   "source": []
  },
  {
   "cell_type": "markdown",
   "metadata": {},
   "source": [
    "### 在租房屋的建筑类型有哪些"
   ]
  },
  {
   "cell_type": "code",
   "execution_count": null,
   "metadata": {},
   "outputs": [],
   "source": []
  },
  {
   "cell_type": "markdown",
   "metadata": {},
   "source": [
    "### 哪个城区的租房价格最贵，平均价格是多少"
   ]
  },
  {
   "cell_type": "code",
   "execution_count": null,
   "metadata": {},
   "outputs": [],
   "source": []
  },
  {
   "cell_type": "markdown",
   "metadata": {},
   "source": [
    "### 不同房型的平均/最大/最小面积"
   ]
  },
  {
   "cell_type": "code",
   "execution_count": null,
   "metadata": {},
   "outputs": [],
   "source": []
  },
  {
   "cell_type": "markdown",
   "metadata": {},
   "source": [
    "### 哪个地铁口附近的房子最多"
   ]
  },
  {
   "cell_type": "code",
   "execution_count": null,
   "metadata": {},
   "outputs": [],
   "source": []
  },
  {
   "cell_type": "markdown",
   "metadata": {},
   "source": [
    "### 地铁附近的房子平均价格 比 非地铁的高多少"
   ]
  },
  {
   "cell_type": "code",
   "execution_count": null,
   "metadata": {},
   "outputs": [],
   "source": []
  }
 ],
 "metadata": {
  "kernelspec": {
   "display_name": "Python 2",
   "language": "python",
   "name": "python2"
  },
  "language_info": {
   "codemirror_mode": {
    "name": "ipython",
    "version": 2
   },
   "file_extension": ".py",
   "mimetype": "text/x-python",
   "name": "python",
   "nbconvert_exporter": "python",
   "pygments_lexer": "ipython2",
   "version": "2.7.14"
  }
 },
 "nbformat": 4,
 "nbformat_minor": 1
}
