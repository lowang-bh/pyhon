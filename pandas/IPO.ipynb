{
 "cells": [
  {
   "cell_type": "markdown",
   "metadata": {},
   "source": [
    "## IPO数据分析"
   ]
  },
  {
   "cell_type": "markdown",
   "metadata": {},
   "source": [
    "#### 数据列说明\n",
    "- Date 日期\n",
    "- Issuer 发行者\n",
    "- Symbol 股票代码\n",
    "- Manager 承销商\n",
    "- OfferPrice 发行价\n",
    "- OpeningPrice 开盘价\n",
    "- DayClose 首日收盘价\n",
    "- ChangeDay 首日收盘价格较发行价变化率\n",
    "- ChangeOpening 首日开盘价较发行价变化（绝对金额）\n",
    "- ChangeClose 首日收盘价较发行价变化（绝对金额）\n",
    "- StarRatings 评级"
   ]
  },
  {
   "cell_type": "code",
   "execution_count": 7,
   "metadata": {},
   "outputs": [],
   "source": [
    "#### 导入库及数据（文件名ipo.csv）\n",
    "import pandas as pd\n",
    "import matplotlib.pyplot as plt\n",
    "%matplotlib inline\n",
    "import pandas as pd\n",
    "ipos=pd.read_csv('ipos.csv',encoding='latin-1')\n"
   ]
  },
  {
   "cell_type": "code",
   "execution_count": 6,
   "metadata": {},
   "outputs": [
    {
     "name": "stdout",
     "output_type": "stream",
     "text": [
      "<class 'pandas.core.frame.DataFrame'>\n",
      "RangeIndex: 2945 entries, 0 to 2944\n",
      "Data columns (total 11 columns):\n",
      "Date             2945 non-null object\n",
      "Issuer           2945 non-null object\n",
      "Symbol           2945 non-null object\n",
      " Managers        2945 non-null object\n",
      "OfferPrice       2945 non-null object\n",
      "OpeningPrice     2945 non-null object\n",
      "DayClose         2945 non-null object\n",
      "ChangeDay        2945 non-null object\n",
      "ChangeOpening    2945 non-null object\n",
      "ChangeClose      2945 non-null object\n",
      "StarRatings      2945 non-null object\n",
      "dtypes: object(11)\n",
      "memory usage: 253.2+ KB\n"
     ]
    }
   ],
   "source": [
    "ipos.info()"
   ]
  },
  {
   "cell_type": "code",
   "execution_count": 16,
   "metadata": {},
   "outputs": [],
   "source": [
    "#数据清洗1\n",
    "# ipos.info"
   ]
  },
  {
   "cell_type": "code",
   "execution_count": 8,
   "metadata": {},
   "outputs": [
    {
     "data": {
      "text/html": [
       "<div>\n",
       "<style scoped>\n",
       "    .dataframe tbody tr th:only-of-type {\n",
       "        vertical-align: middle;\n",
       "    }\n",
       "\n",
       "    .dataframe tbody tr th {\n",
       "        vertical-align: top;\n",
       "    }\n",
       "\n",
       "    .dataframe thead th {\n",
       "        text-align: right;\n",
       "    }\n",
       "</style>\n",
       "<table border=\"1\" class=\"dataframe\">\n",
       "  <thead>\n",
       "    <tr style=\"text-align: right;\">\n",
       "      <th></th>\n",
       "      <th>Date</th>\n",
       "      <th>Issuer</th>\n",
       "      <th>Symbol</th>\n",
       "      <th>Managers</th>\n",
       "      <th>OfferPrice</th>\n",
       "      <th>OpeningPrice</th>\n",
       "      <th>DayClose</th>\n",
       "      <th>ChangeDay</th>\n",
       "      <th>ChangeOpening</th>\n",
       "      <th>ChangeClose</th>\n",
       "      <th>StarRatings</th>\n",
       "    </tr>\n",
       "  </thead>\n",
       "  <tbody>\n",
       "    <tr>\n",
       "      <th>0</th>\n",
       "      <td>1/13/17</td>\n",
       "      <td>Gores Holdings II</td>\n",
       "      <td>GSHTU</td>\n",
       "      <td>Deutsche Bank Securities</td>\n",
       "      <td>$10.00</td>\n",
       "      <td>$10.16</td>\n",
       "      <td>$10.25</td>\n",
       "      <td>2.50%</td>\n",
       "      <td>$0.16</td>\n",
       "      <td>$0.25</td>\n",
       "      <td>1</td>\n",
       "    </tr>\n",
       "    <tr>\n",
       "      <th>1</th>\n",
       "      <td>1/20/17</td>\n",
       "      <td>FinTech Acquisition Corp. II</td>\n",
       "      <td>FNTEU</td>\n",
       "      <td>Cantor Fitzgerald &amp; Co.</td>\n",
       "      <td>$10.00</td>\n",
       "      <td>$10.10</td>\n",
       "      <td>$10.05</td>\n",
       "      <td>0.50%</td>\n",
       "      <td>$0.10</td>\n",
       "      <td>$0.05</td>\n",
       "      <td>1</td>\n",
       "    </tr>\n",
       "    <tr>\n",
       "      <th>2</th>\n",
       "      <td>1/20/17</td>\n",
       "      <td>Keane Group</td>\n",
       "      <td>FRAC</td>\n",
       "      <td>Citigroup/ Morgan Stanley/ BofA Merrill Lynch/...</td>\n",
       "      <td>$19.00</td>\n",
       "      <td>$22.18</td>\n",
       "      <td>$21.65</td>\n",
       "      <td>13.95%</td>\n",
       "      <td>$3.18</td>\n",
       "      <td>$2.65</td>\n",
       "      <td>3</td>\n",
       "    </tr>\n",
       "    <tr>\n",
       "      <th>3</th>\n",
       "      <td>1/26/17</td>\n",
       "      <td>AnaptysBio</td>\n",
       "      <td>ANAB</td>\n",
       "      <td>Credit Suisse/ Stifel</td>\n",
       "      <td>$15.00</td>\n",
       "      <td>$16.00</td>\n",
       "      <td>$17.00</td>\n",
       "      <td>13.33%</td>\n",
       "      <td>$1.00</td>\n",
       "      <td>$2.00</td>\n",
       "      <td>2</td>\n",
       "    </tr>\n",
       "    <tr>\n",
       "      <th>4</th>\n",
       "      <td>1/26/17</td>\n",
       "      <td>ObsEva SA</td>\n",
       "      <td>OBSV</td>\n",
       "      <td>Credit Suisse/ Jefferies/ Leerink Partners</td>\n",
       "      <td>$15.00</td>\n",
       "      <td>$13.29</td>\n",
       "      <td>$11.65</td>\n",
       "      <td>-22.33%</td>\n",
       "      <td>($1.71)</td>\n",
       "      <td>($3.35)</td>\n",
       "      <td>2</td>\n",
       "    </tr>\n",
       "  </tbody>\n",
       "</table>\n",
       "</div>"
      ],
      "text/plain": [
       "      Date                        Issuer Symbol  \\\n",
       "0  1/13/17            Gores Holdings II   GSHTU   \n",
       "1  1/20/17  FinTech Acquisition Corp. II  FNTEU   \n",
       "2  1/20/17                  Keane Group    FRAC   \n",
       "3  1/26/17                   AnaptysBio    ANAB   \n",
       "4  1/26/17                   ObsEva SA     OBSV   \n",
       "\n",
       "                                            Managers OfferPrice OpeningPrice  \\\n",
       "0                           Deutsche Bank Securities    $10.00       $10.16    \n",
       "1                            Cantor Fitzgerald & Co.    $10.00       $10.10    \n",
       "2  Citigroup/ Morgan Stanley/ BofA Merrill Lynch/...    $19.00       $22.18    \n",
       "3                              Credit Suisse/ Stifel    $15.00       $16.00    \n",
       "4         Credit Suisse/ Jefferies/ Leerink Partners    $15.00       $13.29    \n",
       "\n",
       "  DayClose ChangeDay ChangeOpening ChangeClose StarRatings  \n",
       "0  $10.25      2.50%        $0.16       $0.25            1  \n",
       "1  $10.05      0.50%        $0.10       $0.05            1  \n",
       "2  $21.65     13.95%        $3.18       $2.65            3  \n",
       "3  $17.00     13.33%        $1.00       $2.00            2  \n",
       "4  $11.65    -22.33%       ($1.71)     ($3.35)           2  "
      ]
     },
     "execution_count": 8,
     "metadata": {},
     "output_type": "execute_result"
    }
   ],
   "source": [
    "#数据清洗2\n",
    "ipos.head()"
   ]
  },
  {
   "cell_type": "code",
   "execution_count": 23,
   "metadata": {},
   "outputs": [
    {
     "ename": "AttributeError",
     "evalue": "Can only use .dt accessor with datetimelike values",
     "output_type": "error",
     "traceback": [
      "\u001b[0;31m---------------------------------------------------------------------------\u001b[0m",
      "\u001b[0;31mAttributeError\u001b[0m                            Traceback (most recent call last)",
      "\u001b[0;32m<ipython-input-23-917bd533071d>\u001b[0m in \u001b[0;36m<module>\u001b[0;34m()\u001b[0m\n\u001b[1;32m      2\u001b[0m \u001b[0mipos\u001b[0m\u001b[0;34m[\u001b[0m\u001b[0;34m'ChangeDay'\u001b[0m\u001b[0;34m]\u001b[0m\u001b[0;34m.\u001b[0m\u001b[0mmap\u001b[0m\u001b[0;34m(\u001b[0m\u001b[0;32mlambda\u001b[0m \u001b[0mf\u001b[0m\u001b[0;34m:\u001b[0m \u001b[0mfloat\u001b[0m\u001b[0;34m(\u001b[0m\u001b[0mstr\u001b[0m\u001b[0;34m.\u001b[0m\u001b[0mstrip\u001b[0m\u001b[0;34m(\u001b[0m\u001b[0mstr\u001b[0m\u001b[0;34m(\u001b[0m\u001b[0mf\u001b[0m\u001b[0;34m)\u001b[0m\u001b[0;34m,\u001b[0m \u001b[0;34m'%'\u001b[0m\u001b[0;34m)\u001b[0m\u001b[0;34m)\u001b[0m\u001b[0;34m)\u001b[0m\u001b[0;34m\u001b[0m\u001b[0m\n\u001b[1;32m      3\u001b[0m \u001b[0mdate\u001b[0m\u001b[0;34m=\u001b[0m\u001b[0mipos\u001b[0m\u001b[0;34m[\u001b[0m\u001b[0;34m'Date'\u001b[0m\u001b[0;34m]\u001b[0m\u001b[0;34m\u001b[0m\u001b[0m\n\u001b[0;32m----> 4\u001b[0;31m \u001b[0mdate\u001b[0m\u001b[0;34m.\u001b[0m\u001b[0mdt\u001b[0m\u001b[0;34m\u001b[0m\u001b[0m\n\u001b[0m",
      "\u001b[0;32m/usr/local/lib/python2.7/site-packages/pandas/core/generic.pyc\u001b[0m in \u001b[0;36m__getattr__\u001b[0;34m(self, name)\u001b[0m\n\u001b[1;32m   4366\u001b[0m         if (name in self._internal_names_set or name in self._metadata or\n\u001b[1;32m   4367\u001b[0m                 name in self._accessors):\n\u001b[0;32m-> 4368\u001b[0;31m             \u001b[0;32mreturn\u001b[0m \u001b[0mobject\u001b[0m\u001b[0;34m.\u001b[0m\u001b[0m__getattribute__\u001b[0m\u001b[0;34m(\u001b[0m\u001b[0mself\u001b[0m\u001b[0;34m,\u001b[0m \u001b[0mname\u001b[0m\u001b[0;34m)\u001b[0m\u001b[0;34m\u001b[0m\u001b[0m\n\u001b[0m\u001b[1;32m   4369\u001b[0m         \u001b[0;32melse\u001b[0m\u001b[0;34m:\u001b[0m\u001b[0;34m\u001b[0m\u001b[0m\n\u001b[1;32m   4370\u001b[0m             \u001b[0;32mif\u001b[0m \u001b[0mself\u001b[0m\u001b[0;34m.\u001b[0m\u001b[0m_info_axis\u001b[0m\u001b[0;34m.\u001b[0m\u001b[0m_can_hold_identifiers_and_holds_name\u001b[0m\u001b[0;34m(\u001b[0m\u001b[0mname\u001b[0m\u001b[0;34m)\u001b[0m\u001b[0;34m:\u001b[0m\u001b[0;34m\u001b[0m\u001b[0m\n",
      "\u001b[0;32m/usr/local/lib/python2.7/site-packages/pandas/core/accessor.pyc\u001b[0m in \u001b[0;36m__get__\u001b[0;34m(self, obj, cls)\u001b[0m\n\u001b[1;32m    130\u001b[0m             \u001b[0;31m# we're accessing the attribute of the class, i.e., Dataset.geo\u001b[0m\u001b[0;34m\u001b[0m\u001b[0;34m\u001b[0m\u001b[0m\n\u001b[1;32m    131\u001b[0m             \u001b[0;32mreturn\u001b[0m \u001b[0mself\u001b[0m\u001b[0;34m.\u001b[0m\u001b[0m_accessor\u001b[0m\u001b[0;34m\u001b[0m\u001b[0m\n\u001b[0;32m--> 132\u001b[0;31m         \u001b[0maccessor_obj\u001b[0m \u001b[0;34m=\u001b[0m \u001b[0mself\u001b[0m\u001b[0;34m.\u001b[0m\u001b[0m_accessor\u001b[0m\u001b[0;34m(\u001b[0m\u001b[0mobj\u001b[0m\u001b[0;34m)\u001b[0m\u001b[0;34m\u001b[0m\u001b[0m\n\u001b[0m\u001b[1;32m    133\u001b[0m         \u001b[0;31m# Replace the property with the accessor object. Inspired by:\u001b[0m\u001b[0;34m\u001b[0m\u001b[0;34m\u001b[0m\u001b[0m\n\u001b[1;32m    134\u001b[0m         \u001b[0;31m# http://www.pydanny.com/cached-property.html\u001b[0m\u001b[0;34m\u001b[0m\u001b[0;34m\u001b[0m\u001b[0m\n",
      "\u001b[0;32m/usr/local/lib/python2.7/site-packages/pandas/core/indexes/accessors.pyc\u001b[0m in \u001b[0;36m__new__\u001b[0;34m(cls, data)\u001b[0m\n\u001b[1;32m    323\u001b[0m             \u001b[0;32mpass\u001b[0m  \u001b[0;31m# we raise an attribute error anyway\u001b[0m\u001b[0;34m\u001b[0m\u001b[0m\n\u001b[1;32m    324\u001b[0m \u001b[0;34m\u001b[0m\u001b[0m\n\u001b[0;32m--> 325\u001b[0;31m         raise AttributeError(\"Can only use .dt accessor with datetimelike \"\n\u001b[0m\u001b[1;32m    326\u001b[0m                              \"values\")\n",
      "\u001b[0;31mAttributeError\u001b[0m: Can only use .dt accessor with datetimelike values"
     ]
    }
   ],
   "source": [
    "#按年比较首日收盘价格较发行价变化率的中位数\n",
    "ipos['ChangeDay'].map(lambda f: float(str.strip(str(f), '%')))\n",
    "date=ipos['Date']\n",
    "date.dt"
   ]
  },
  {
   "cell_type": "code",
   "execution_count": null,
   "metadata": {},
   "outputs": [],
   "source": [
    "#数值观察首日收盘价格较发行价变化率的大体情况"
   ]
  },
  {
   "cell_type": "code",
   "execution_count": 14,
   "metadata": {
    "scrolled": true
   },
   "outputs": [
    {
     "data": {
      "text/plain": [
       "<pandas.core.groupby.groupby.DataFrameGroupBy object at 0x103ccc2d0>"
      ]
     },
     "execution_count": 14,
     "metadata": {},
     "output_type": "execute_result"
    }
   ],
   "source": [
    "#画出首日收盘价格较发行价变化率的分布\n",
    "\n",
    "#请描述这个分布\n",
    "ipos.groupby(by=['ChangeDay'])"
   ]
  },
  {
   "cell_type": "code",
   "execution_count": null,
   "metadata": {},
   "outputs": [],
   "source": [
    "#想知道，如果对新股以开盘价买入，收盘价卖出这样策略的收益 情况？"
   ]
  },
  {
   "cell_type": "code",
   "execution_count": null,
   "metadata": {},
   "outputs": [],
   "source": [
    "#再想想，如果是以IPO发价购买，首日开盘价卖出这样策略呢？"
   ]
  },
  {
   "cell_type": "code",
   "execution_count": null,
   "metadata": {},
   "outputs": [],
   "source": [
    "#想知道在2009年以后，我们按开盘买入，收盘卖出的策略去执行的情况"
   ]
  }
 ],
 "metadata": {
  "kernelspec": {
   "display_name": "Python 2",
   "language": "python",
   "name": "python2"
  },
  "language_info": {
   "codemirror_mode": {
    "name": "ipython",
    "version": 2
   },
   "file_extension": ".py",
   "mimetype": "text/x-python",
   "name": "python",
   "nbconvert_exporter": "python",
   "pygments_lexer": "ipython2",
   "version": "2.7.14"
  }
 },
 "nbformat": 4,
 "nbformat_minor": 2
}
