{
 "cells": [
  {
   "cell_type": "markdown",
   "metadata": {
    "collapsed": true
   },
   "source": [
    "***\n",
    "\n",
    "## Pandas第二课作业\n",
    "\n",
    "####  作业提交说明：\n",
    "- 位置：作业文件统一放置于/0.Teacher/Exercise/Pandas1/下\n",
    "- 文件名：请先复制该notebook文件，并重新命名为(课程名)+(您姓名的全拼)，并按要求完成后保存\n",
    "- 时间：在本周课程结束前，提交。\n",
    "- 注意：请勿抄袭，移动，修改，删除其他同学和原始空白的练习文件。\n",
    "- 注意：该作业不计入分数，仅供巩固本堂课程知识点使用\n",
    "***\n",
    "\n",
    "- 同学姓名:<u>chenjiafeng</u>  \n",
    "- 批改人：\n",
    "- 情况总结:\n",
    "\n",
    "***"
   ]
  },
  {
   "cell_type": "markdown",
   "metadata": {},
   "source": [
    "## 作业\n",
    "- 作业所需数据文件位于0.Teacher/data目录下\n",
    "***"
   ]
  },
  {
   "cell_type": "markdown",
   "metadata": {},
   "source": [
    "\n",
    "#### 1.读入NVDA.csv中的数据\n"
   ]
  },
  {
   "cell_type": "code",
   "execution_count": 9,
   "metadata": {},
   "outputs": [
    {
     "data": {
      "text/plain": [
       "(                Open      High       Low     Close  Adj Close    Volume\n",
       " Date                                                                   \n",
       " 1999-01-22  1.750000  1.953125  1.552083  1.640625   1.523430  67867200\n",
       " 1999-01-25  1.770833  1.833333  1.640625  1.812500   1.683028  12762000\n",
       " 1999-01-26  1.833333  1.869792  1.645833  1.671875   1.552448   8580000\n",
       " 1999-01-27  1.677083  1.718750  1.583333  1.666667   1.547611   6109200\n",
       " 1999-01-28  1.666667  1.677083  1.651042  1.661458   1.542776   5688000,\n",
       "                 Open      High       Low     Close  Adj Close      Volume\n",
       " Date                                                                     \n",
       " 1999-01-22       NaN       NaN       NaN       NaN        NaN         NaN\n",
       " 1999-01-25  1.750000  1.953125  1.552083  1.640625   1.523430  67867200.0\n",
       " 1999-01-26  1.770833  1.833333  1.640625  1.812500   1.683028  12762000.0\n",
       " 1999-01-27  1.833333  1.869792  1.645833  1.671875   1.552448   8580000.0\n",
       " 1999-01-28  1.677083  1.718750  1.583333  1.666667   1.547611   6109200.0)"
      ]
     },
     "execution_count": 9,
     "metadata": {},
     "output_type": "execute_result"
    }
   ],
   "source": [
    "import pandas as pd\n",
    "import numpy as np\n",
    "nvda=pd.read_csv('data/NVDA.csv', index_col=[0])\n",
    "nvda.head(), nvda.shift(1).head()"
   ]
  },
  {
   "cell_type": "markdown",
   "metadata": {
    "collapsed": true
   },
   "source": [
    "#### 2.请计算nvda股票Adj Close每天的log return"
   ]
  },
  {
   "cell_type": "code",
   "execution_count": 56,
   "metadata": {},
   "outputs": [
    {
     "data": {
      "text/plain": [
       "Date\n",
       "1999-01-22         NaN\n",
       "1999-01-25    0.099630\n",
       "1999-01-26   -0.080762\n",
       "1999-01-27   -0.003121\n",
       "1999-01-28   -0.003129\n",
       "1999-01-29   -0.048164\n",
       "1999-02-01    0.019545\n",
       "1999-02-02   -0.080581\n",
       "1999-02-03    0.020762\n",
       "1999-02-04    0.053346\n",
       "Name: log return, dtype: float64"
      ]
     },
     "execution_count": 56,
     "metadata": {},
     "output_type": "execute_result"
    }
   ],
   "source": [
    "nvda['log return'] = np.log(nvda['Adj Close']/ nvda['Adj Close'].shift(1))\n",
    "nvda['log return'].head(10)"
   ]
  },
  {
   "cell_type": "markdown",
   "metadata": {},
   "source": [
    "#### 3.请找出nvda股票涨幅最大的10天"
   ]
  },
  {
   "cell_type": "code",
   "execution_count": 22,
   "metadata": {},
   "outputs": [
    {
     "data": {
      "text/plain": [
       "Index(['2000-03-07', '2003-05-09', '2001-01-03', '2016-11-11', '2000-03-13',\n",
       "       '2000-12-22', '2000-12-08', '2000-04-05', '2003-02-14', '1999-08-19'],\n",
       "      dtype='object', name='Date')"
      ]
     },
     "execution_count": 22,
     "metadata": {},
     "output_type": "execute_result"
    }
   ],
   "source": [
    "nvda['grouth'] = nvda['Adj Close']/ nvda['Adj Close'].shift(1)-1\n",
    "nvda.sort_values(by=['grouth'], ascending=False).index[0:10]"
   ]
  },
  {
   "cell_type": "markdown",
   "metadata": {},
   "source": [
    "#### 4. 将这十天的股票信息都输出来"
   ]
  },
  {
   "cell_type": "code",
   "execution_count": 19,
   "metadata": {},
   "outputs": [
    {
     "data": {
      "text/html": [
       "<div>\n",
       "<style scoped>\n",
       "    .dataframe tbody tr th:only-of-type {\n",
       "        vertical-align: middle;\n",
       "    }\n",
       "\n",
       "    .dataframe tbody tr th {\n",
       "        vertical-align: top;\n",
       "    }\n",
       "\n",
       "    .dataframe thead th {\n",
       "        text-align: right;\n",
       "    }\n",
       "</style>\n",
       "<table border=\"1\" class=\"dataframe\">\n",
       "  <thead>\n",
       "    <tr style=\"text-align: right;\">\n",
       "      <th></th>\n",
       "      <th>Open</th>\n",
       "      <th>High</th>\n",
       "      <th>Low</th>\n",
       "      <th>Close</th>\n",
       "      <th>Adj Close</th>\n",
       "      <th>Volume</th>\n",
       "      <th>log return</th>\n",
       "      <th>grouth</th>\n",
       "    </tr>\n",
       "    <tr>\n",
       "      <th>Date</th>\n",
       "      <th></th>\n",
       "      <th></th>\n",
       "      <th></th>\n",
       "      <th></th>\n",
       "      <th></th>\n",
       "      <th></th>\n",
       "      <th></th>\n",
       "      <th></th>\n",
       "    </tr>\n",
       "  </thead>\n",
       "  <tbody>\n",
       "    <tr>\n",
       "      <th>2000-03-07</th>\n",
       "      <td>6.250000</td>\n",
       "      <td>7.270833</td>\n",
       "      <td>5.979167</td>\n",
       "      <td>6.942708</td>\n",
       "      <td>6.446771</td>\n",
       "      <td>48805200</td>\n",
       "      <td>0.353572</td>\n",
       "      <td>0.424145</td>\n",
       "    </tr>\n",
       "    <tr>\n",
       "      <th>2003-05-09</th>\n",
       "      <td>6.276667</td>\n",
       "      <td>7.176667</td>\n",
       "      <td>6.100000</td>\n",
       "      <td>7.123333</td>\n",
       "      <td>6.614493</td>\n",
       "      <td>230771400</td>\n",
       "      <td>0.285656</td>\n",
       "      <td>0.330635</td>\n",
       "    </tr>\n",
       "    <tr>\n",
       "      <th>2001-01-03</th>\n",
       "      <td>4.833333</td>\n",
       "      <td>6.572917</td>\n",
       "      <td>4.708333</td>\n",
       "      <td>6.520833</td>\n",
       "      <td>6.055031</td>\n",
       "      <td>22759200</td>\n",
       "      <td>0.267650</td>\n",
       "      <td>0.306890</td>\n",
       "    </tr>\n",
       "    <tr>\n",
       "      <th>2016-11-11</th>\n",
       "      <td>79.510002</td>\n",
       "      <td>88.769997</td>\n",
       "      <td>78.500000</td>\n",
       "      <td>87.970001</td>\n",
       "      <td>87.635475</td>\n",
       "      <td>54335100</td>\n",
       "      <td>0.260876</td>\n",
       "      <td>0.298067</td>\n",
       "    </tr>\n",
       "    <tr>\n",
       "      <th>2000-03-13</th>\n",
       "      <td>8.916667</td>\n",
       "      <td>12.500000</td>\n",
       "      <td>8.833333</td>\n",
       "      <td>12.437500</td>\n",
       "      <td>11.549053</td>\n",
       "      <td>60379200</td>\n",
       "      <td>0.234938</td>\n",
       "      <td>0.264830</td>\n",
       "    </tr>\n",
       "    <tr>\n",
       "      <th>2000-12-22</th>\n",
       "      <td>5.020833</td>\n",
       "      <td>6.375000</td>\n",
       "      <td>5.020833</td>\n",
       "      <td>5.843750</td>\n",
       "      <td>5.426314</td>\n",
       "      <td>23727000</td>\n",
       "      <td>0.229402</td>\n",
       "      <td>0.257847</td>\n",
       "    </tr>\n",
       "    <tr>\n",
       "      <th>2000-12-08</th>\n",
       "      <td>7.447917</td>\n",
       "      <td>8.333333</td>\n",
       "      <td>6.752600</td>\n",
       "      <td>8.291667</td>\n",
       "      <td>7.699371</td>\n",
       "      <td>21334800</td>\n",
       "      <td>0.205709</td>\n",
       "      <td>0.228395</td>\n",
       "    </tr>\n",
       "    <tr>\n",
       "      <th>2000-04-05</th>\n",
       "      <td>6.312500</td>\n",
       "      <td>8.125000</td>\n",
       "      <td>5.989583</td>\n",
       "      <td>7.640625</td>\n",
       "      <td>7.094833</td>\n",
       "      <td>15990000</td>\n",
       "      <td>0.200898</td>\n",
       "      <td>0.222500</td>\n",
       "    </tr>\n",
       "    <tr>\n",
       "      <th>2003-02-14</th>\n",
       "      <td>3.740000</td>\n",
       "      <td>4.016667</td>\n",
       "      <td>3.650000</td>\n",
       "      <td>4.013333</td>\n",
       "      <td>3.726649</td>\n",
       "      <td>88721100</td>\n",
       "      <td>0.198735</td>\n",
       "      <td>0.219858</td>\n",
       "    </tr>\n",
       "    <tr>\n",
       "      <th>1999-08-19</th>\n",
       "      <td>1.994792</td>\n",
       "      <td>2.364583</td>\n",
       "      <td>1.927083</td>\n",
       "      <td>2.260417</td>\n",
       "      <td>2.098948</td>\n",
       "      <td>49174800</td>\n",
       "      <td>0.192511</td>\n",
       "      <td>0.212290</td>\n",
       "    </tr>\n",
       "  </tbody>\n",
       "</table>\n",
       "</div>"
      ],
      "text/plain": [
       "                 Open       High        Low      Close  Adj Close     Volume  \\\n",
       "Date                                                                           \n",
       "2000-03-07   6.250000   7.270833   5.979167   6.942708   6.446771   48805200   \n",
       "2003-05-09   6.276667   7.176667   6.100000   7.123333   6.614493  230771400   \n",
       "2001-01-03   4.833333   6.572917   4.708333   6.520833   6.055031   22759200   \n",
       "2016-11-11  79.510002  88.769997  78.500000  87.970001  87.635475   54335100   \n",
       "2000-03-13   8.916667  12.500000   8.833333  12.437500  11.549053   60379200   \n",
       "2000-12-22   5.020833   6.375000   5.020833   5.843750   5.426314   23727000   \n",
       "2000-12-08   7.447917   8.333333   6.752600   8.291667   7.699371   21334800   \n",
       "2000-04-05   6.312500   8.125000   5.989583   7.640625   7.094833   15990000   \n",
       "2003-02-14   3.740000   4.016667   3.650000   4.013333   3.726649   88721100   \n",
       "1999-08-19   1.994792   2.364583   1.927083   2.260417   2.098948   49174800   \n",
       "\n",
       "            log return    grouth  \n",
       "Date                              \n",
       "2000-03-07    0.353572  0.424145  \n",
       "2003-05-09    0.285656  0.330635  \n",
       "2001-01-03    0.267650  0.306890  \n",
       "2016-11-11    0.260876  0.298067  \n",
       "2000-03-13    0.234938  0.264830  \n",
       "2000-12-22    0.229402  0.257847  \n",
       "2000-12-08    0.205709  0.228395  \n",
       "2000-04-05    0.200898  0.222500  \n",
       "2003-02-14    0.198735  0.219858  \n",
       "1999-08-19    0.192511  0.212290  "
      ]
     },
     "execution_count": 19,
     "metadata": {},
     "output_type": "execute_result"
    }
   ],
   "source": [
    "nvda.sort_values(by=['grouth'], ascending=False)[:10]"
   ]
  },
  {
   "cell_type": "markdown",
   "metadata": {},
   "source": [
    "#### 5把英伟达每个月最后一天的股价记录下来，做成一张新的月线图，然后把Adj Close画成一张图"
   ]
  },
  {
   "cell_type": "code",
   "execution_count": 57,
   "metadata": {},
   "outputs": [
    {
     "data": {
      "text/plain": [
       "<matplotlib.axes._subplots.AxesSubplot at 0x7f752ce07208>"
      ]
     },
     "execution_count": 57,
     "metadata": {},
     "output_type": "execute_result"
    },
    {
     "data": {
      "image/png": "[encoded data removed]",
      "text/plain": [
       "<Figure size 432x288 with 1 Axes>"
      ]
     },
     "metadata": {},
     "output_type": "display_data"
    }
   ],
   "source": [
    "nvda.index = pd.to_datetime(nvda.index)\n",
    "monthly_last = nvda.resample('M').last()\n",
    "%matplotlib inline\n",
    "monthly_last['Adj Close'].plot(legend=True, title='NVIDA Adj Close Monthly')"
   ]
  },
  {
   "cell_type": "markdown",
   "metadata": {},
   "source": [
    "#### 6.使用concat方法把英伟达的Adj Close与其他三只股票拼接在一起"
   ]
  },
  {
   "cell_type": "code",
   "execution_count": 42,
   "metadata": {},
   "outputs": [
    {
     "data": {
      "text/plain": [
       "Date\n",
       "1980-12-12    0.423252\n",
       "1980-12-15    0.401170\n",
       "1980-12-16    0.371726\n",
       "1980-12-17    0.380927\n",
       "1980-12-18    0.391969\n",
       "1980-12-19    0.415892\n",
       "1980-12-22    0.436134\n",
       "1980-12-23    0.454536\n",
       "1980-12-24    0.478460\n",
       "1980-12-26    0.522625\n",
       "Name: Adj Close, dtype: float64"
      ]
     },
     "execution_count": 42,
     "metadata": {},
     "output_type": "execute_result"
    }
   ],
   "source": [
    "apple = pd.read_csv('data/AAPL.csv', index_col=0, parse_dates=[0])\n",
    "google = pd.read_csv('data/GOOG.csv', index_col=0, parse_dates=[0])\n",
    "gspc=pd.read_csv('data/GSPC.csv', index_col=0, parse_dates=[0])\n",
    "\n",
    "apple_adj = apple['Adj Close']\n",
    "google_adj = google['Adj Close']\n",
    "gspc_adj = gspc['Adj Close']\n",
    "nvda_adj=nvda['Adj Close']\n",
    "concat_data = pd.concat([nvda_adj, apple_adj, google_adj, gspc_adj], keys=['nvda', 'apple', 'google', 'gspc'])\n",
    "concat_data['apple'].head(10)"
   ]
  },
  {
   "cell_type": "markdown",
   "metadata": {},
   "source": [
    "#### 7.从Google有数据的那一天起开始画出四只股票的Adj Close折线图\n"
   ]
  },
  {
   "cell_type": "code",
   "execution_count": 55,
   "metadata": {},
   "outputs": [
    {
     "data": {
      "text/plain": [
       "<matplotlib.axes._subplots.AxesSubplot at 0x7f752ce9bba8>"
      ]
     },
     "execution_count": 55,
     "metadata": {},
     "output_type": "execute_result"
    },
    {
     "data": {
      "image/png": "[encoded data removed]",
      "text/plain": [
       "<Figure size 432x288 with 1 Axes>"
      ]
     },
     "metadata": {},
     "output_type": "display_data"
    }
   ],
   "source": [
    "data=dict(zip(['nvda', 'apple', 'google', 'gspc'],[nvda_adj, apple_adj, google_adj, gspc_adj]))\n",
    "\n",
    "stocks = pd.DataFrame(data)\n",
    "#stock.plot()\n",
    "valid_stocks = stocks[stocks.index >= stocks[\"google\"].first_valid_index()]\n",
    "valid_stocks.plot(title='Adj Close stockes Since Google')"
   ]
  },
  {
   "cell_type": "code",
   "execution_count": null,
   "metadata": {},
   "outputs": [],
   "source": []
  }
 ],
 "metadata": {
  "kernelspec": {
   "display_name": "Python 3",
   "language": "python",
   "name": "python3"
  },
  "language_info": {
   "codemirror_mode": {
    "name": "ipython",
    "version": 3
   },
   "file_extension": ".py",
   "mimetype": "text/x-python",
   "name": "python",
   "nbconvert_exporter": "python",
   "pygments_lexer": "ipython3",
   "version": "3.5.2"
  }
 },
 "nbformat": 4,
 "nbformat_minor": 2
}
